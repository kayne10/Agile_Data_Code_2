{
 "cells": [
  {
   "cell_type": "markdown",
   "metadata": {},
   "source": [
    "# Initialize PySpark\n",
    "\n",
    "First, we use the findspark package to initialize PySpark."
   ]
  },
  {
   "cell_type": "code",
   "execution_count": 1,
   "metadata": {},
   "outputs": [
    {
     "name": "stdout",
     "output_type": "stream",
     "text": [
      "PySpark initiated...\n"
     ]
    }
   ],
   "source": [
    "# Initialize PySpark\n",
    "APP_NAME = \"Debugging Prediction Problems\"\n",
    "\n",
    "# If there is no SparkSession, create the environment\n",
    "try:\n",
    "  sc and spark\n",
    "except NameError as e:\n",
    "  import findspark\n",
    "  findspark.init()\n",
    "  import pyspark\n",
    "  import pyspark.sql\n",
    "\n",
    "  sc = pyspark.SparkContext()\n",
    "  spark = pyspark.sql.SparkSession(sc).builder.appName(APP_NAME).getOrCreate()\n",
    "\n",
    "print(\"PySpark initiated...\")"
   ]
  },
  {
   "cell_type": "markdown",
   "metadata": {},
   "source": [
    "# Hello, World!\n",
    "\n",
    "Loading data, mapping it and collecting the records into RAM..."
   ]
  },
  {
   "cell_type": "code",
   "execution_count": 2,
   "metadata": {},
   "outputs": [
    {
     "data": {
      "text/plain": [
       "[['Russell Jurney', 'Relato', 'CEO'],\n",
       " ['Florian Liebert', 'Mesosphere', 'CEO'],\n",
       " ['Don Brown', 'Rocana', 'CIO'],\n",
       " ['Steve Jobs', 'Apple', 'CEO'],\n",
       " ['Donald Trump', 'The Trump Organization', 'CEO'],\n",
       " ['Russell Jurney', 'Data Syndrome', 'Principal Consultant']]"
      ]
     },
     "execution_count": 2,
     "metadata": {},
     "output_type": "execute_result"
    }
   ],
   "source": [
    "# Load the text file using the SparkContext\n",
    "csv_lines = sc.textFile(\"../data/example.csv\")\n",
    "\n",
    "# Map the data to split the lines into a list\n",
    "data = csv_lines.map(lambda line: line.split(\",\"))\n",
    "\n",
    "# Collect the dataset into local RAM\n",
    "data.collect()"
   ]
  },
  {
   "cell_type": "markdown",
   "metadata": {},
   "source": [
    "# Creating Objects from CSV using `pyspark.RDD.map`\n",
    "\n",
    "Using a function with a map operation to create objects (dicts) as records..."
   ]
  },
  {
   "cell_type": "code",
   "execution_count": 3,
   "metadata": {},
   "outputs": [
    {
     "data": {
      "text/plain": [
       "{'name': 'Russell Jurney', 'company': 'Relato', 'title': 'CEO'}"
      ]
     },
     "execution_count": 3,
     "metadata": {},
     "output_type": "execute_result"
    }
   ],
   "source": [
    "# Turn the CSV lines into objects\n",
    "def csv_to_record(line):\n",
    "  parts = line.split(\",\")\n",
    "  record = {\n",
    "    \"name\": parts[0],\n",
    "    \"company\": parts[1],\n",
    "    \"title\": parts[2]\n",
    "  }\n",
    "  return record\n",
    "\n",
    "# Apply the function to every record\n",
    "records = csv_lines.map(csv_to_record)\n",
    "\n",
    "# Inspect the first item in the dataset\n",
    "records.first()"
   ]
  },
  {
   "cell_type": "markdown",
   "metadata": {},
   "source": [
    "# `pyspark.RDD.groupBy`\n",
    "\n",
    "Using the groupBy operator to count the number of jobs per person..."
   ]
  },
  {
   "cell_type": "code",
   "execution_count": 5,
   "metadata": {},
   "outputs": [
    {
     "name": "stdout",
     "output_type": "stream",
     "text": [
      "('Florian Liebert', <pyspark.resultiterable.ResultIterable object at 0x7f8a6020f438>)\n"
     ]
    },
    {
     "data": {
      "text/plain": [
       "[{'name': 'Florian Liebert', 'job_count': 1},\n",
       " {'name': 'Russell Jurney', 'job_count': 2},\n",
       " {'name': 'Don Brown', 'job_count': 1},\n",
       " {'name': 'Steve Jobs', 'job_count': 1},\n",
       " {'name': 'Donald Trump', 'job_count': 1}]"
      ]
     },
     "execution_count": 5,
     "metadata": {},
     "output_type": "execute_result"
    }
   ],
   "source": [
    "# Group the records by the name of the person\n",
    "grouped_records = records.groupBy(lambda x: x[\"name\"])\n",
    "\n",
    "# Show the first group\n",
    "print(grouped_records.first())\n",
    "\n",
    "# Count the groups\n",
    "job_counts = grouped_records.map(\n",
    "  lambda x: {\n",
    "    \"name\": x[0],\n",
    "    \"job_count\": len(x[1])\n",
    "  }\n",
    ")\n",
    "\n",
    "job_counts.collect()"
   ]
  },
  {
   "cell_type": "markdown",
   "metadata": {},
   "source": [
    "## Exercises\n",
    "\n",
    "1. Use `pyspark.RDD.groupBy` to group executives by job title, then prepare records with the job title and the count of the number of executives with that job."
   ]
  },
  {
   "cell_type": "markdown",
   "metadata": {},
   "source": [
    "# Map vs FlatMap\n",
    "\n",
    "We need to understand the difference between the map and flatmap operators. Map groups items per-record, while flatMap creates a single large group of items."
   ]
  },
  {
   "cell_type": "code",
   "execution_count": 6,
   "metadata": {},
   "outputs": [
    {
     "data": {
      "text/plain": [
       "[['Russell Jurney', 'Relato', 'CEO'],\n",
       " ['Florian Liebert', 'Mesosphere', 'CEO'],\n",
       " ['Don Brown', 'Rocana', 'CIO'],\n",
       " ['Steve Jobs', 'Apple', 'CEO'],\n",
       " ['Donald Trump', 'The Trump Organization', 'CEO'],\n",
       " ['Russell Jurney', 'Data Syndrome', 'Principal Consultant']]"
      ]
     },
     "execution_count": 6,
     "metadata": {},
     "output_type": "execute_result"
    }
   ],
   "source": [
    "# Compute a relation of words by line\n",
    "words_by_line = csv_lines\\\n",
    "  .map(lambda line: line.split(\",\"))\n",
    "\n",
    "words_by_line.collect()"
   ]
  },
  {
   "cell_type": "code",
   "execution_count": 7,
   "metadata": {},
   "outputs": [
    {
     "data": {
      "text/plain": [
       "['Russell Jurney',\n",
       " 'Relato',\n",
       " 'CEO',\n",
       " 'Florian Liebert',\n",
       " 'Mesosphere',\n",
       " 'CEO',\n",
       " 'Don Brown',\n",
       " 'Rocana',\n",
       " 'CIO',\n",
       " 'Steve Jobs',\n",
       " 'Apple',\n",
       " 'CEO',\n",
       " 'Donald Trump',\n",
       " 'The Trump Organization',\n",
       " 'CEO',\n",
       " 'Russell Jurney',\n",
       " 'Data Syndrome',\n",
       " 'Principal Consultant']"
      ]
     },
     "execution_count": 7,
     "metadata": {},
     "output_type": "execute_result"
    }
   ],
   "source": [
    "# Compute a relation of words\n",
    "flattened_words = csv_lines\\\n",
    "  .map(lambda line: line.split(\",\"))\\\n",
    "  .flatMap(lambda x: x)\n",
    "flattened_words.collect()"
   ]
  },
  {
   "cell_type": "code",
   "execution_count": 8,
   "metadata": {},
   "outputs": [
    {
     "data": {
      "text/plain": [
       "[14, 6, 3, 15, 10, 3, 9, 6, 3, 10, 5, 3, 12, 22, 3, 14, 13, 20]"
      ]
     },
     "execution_count": 8,
     "metadata": {},
     "output_type": "execute_result"
    }
   ],
   "source": [
    "lengths = flattened_words.map(lambda x: len(x))\n",
    "lengths.collect()"
   ]
  },
  {
   "cell_type": "code",
   "execution_count": 9,
   "metadata": {},
   "outputs": [
    {
     "data": {
      "text/plain": [
       "9.5"
      ]
     },
     "execution_count": 9,
     "metadata": {},
     "output_type": "execute_result"
    }
   ],
   "source": [
    "lengths.sum() / lengths.count()"
   ]
  },
  {
   "cell_type": "markdown",
   "metadata": {},
   "source": [
    "# Creating Rows\n",
    "\n",
    "We can create `pyspark.sql.Rows` out of python objects so we can create `pyspark.sql.DataFrames`. This is desirable because once we have `DataFrames` we can run Spark SQL on our data."
   ]
  },
  {
   "cell_type": "code",
   "execution_count": 11,
   "metadata": {},
   "outputs": [
    {
     "data": {
      "text/plain": [
       "Row(company='Relato', name='Russell Jurney', title='CEO')"
      ]
     },
     "execution_count": 11,
     "metadata": {},
     "output_type": "execute_result"
    }
   ],
   "source": [
    "from pyspark.sql import Row\n",
    "\n",
    "# Convert the CSV into a pyspark.sql.Row\n",
    "def csv_to_row(line):\n",
    "  parts = line.split(\",\")\n",
    "  row = Row(\n",
    "    name=parts[0],\n",
    "    company=parts[1],\n",
    "    title=parts[2]\n",
    "  )\n",
    "  return row\n",
    "\n",
    "# Apply the function to get rows in an RDD\n",
    "rows = csv_lines.map(csv_to_row)\n",
    "rows.first()"
   ]
  },
  {
   "cell_type": "markdown",
   "metadata": {},
   "source": [
    "## Exercises\n",
    "\n",
    "1. First count the number of companies for each executive, then create a `pyspark.sql.Row` for this result."
   ]
  },
  {
   "cell_type": "code",
   "execution_count": 14,
   "metadata": {},
   "outputs": [
    {
     "data": {
      "text/plain": [
       "[Row(name='Florian Liebert', total=1),\n",
       " Row(name='Russell Jurney', total=2),\n",
       " Row(name='Don Brown', total=1),\n",
       " Row(name='Steve Jobs', total=1),\n",
       " Row(name='Donald Trump', total=1)]"
      ]
     },
     "execution_count": 14,
     "metadata": {},
     "output_type": "execute_result"
    }
   ],
   "source": [
    "records = csv_lines.map(lambda line: line.split(','))\n",
    "records.collect()\n",
    "\n",
    "groups = records.groupBy(lambda x: x[0])\n",
    "counts = groups.map(lambda x: (x[0], len(x[1])))\n",
    "new_rows = counts.map(lambda x: Row(name=x[0], total=x[1]))\n",
    "new_rows.collect()"
   ]
  },
  {
   "cell_type": "code",
   "execution_count": 15,
   "metadata": {},
   "outputs": [
    {
     "name": "stdout",
     "output_type": "stream",
     "text": [
      "+---------------+-----+\n",
      "|           name|total|\n",
      "+---------------+-----+\n",
      "|Florian Liebert|    1|\n",
      "| Russell Jurney|    2|\n",
      "|      Don Brown|    1|\n",
      "|     Steve Jobs|    1|\n",
      "|   Donald Trump|    1|\n",
      "+---------------+-----+\n",
      "\n"
     ]
    }
   ],
   "source": [
    "new_rows.toDF().select(\"name\",\"total\").show()"
   ]
  },
  {
   "cell_type": "markdown",
   "metadata": {},
   "source": [
    "# Creating `DataFrames` from `RDDs`\n",
    "\n",
    "Using the `RDD.toDF()` method to create a dataframe, registering the `DataFrame` as a temporary table with Spark SQL, and counting the jobs per person using Spark SQL."
   ]
  },
  {
   "cell_type": "code",
   "execution_count": 16,
   "metadata": {},
   "outputs": [
    {
     "name": "stdout",
     "output_type": "stream",
     "text": [
      "+--------------------+---------------+--------------------+\n",
      "|             company|           name|               title|\n",
      "+--------------------+---------------+--------------------+\n",
      "|              Relato| Russell Jurney|                 CEO|\n",
      "|          Mesosphere|Florian Liebert|                 CEO|\n",
      "|              Rocana|      Don Brown|                 CIO|\n",
      "|               Apple|     Steve Jobs|                 CEO|\n",
      "|The Trump Organiz...|   Donald Trump|                 CEO|\n",
      "|       Data Syndrome| Russell Jurney|Principal Consultant|\n",
      "+--------------------+---------------+--------------------+\n",
      "\n",
      "+---------------+-----+\n",
      "|           name|total|\n",
      "+---------------+-----+\n",
      "|   Donald Trump|    1|\n",
      "|Florian Liebert|    1|\n",
      "|      Don Brown|    1|\n",
      "| Russell Jurney|    2|\n",
      "|     Steve Jobs|    1|\n",
      "+---------------+-----+\n",
      "\n"
     ]
    },
    {
     "data": {
      "text/plain": [
       "[{'name': 'Donald Trump', 'total': 1},\n",
       " {'name': 'Florian Liebert', 'total': 1},\n",
       " {'name': 'Don Brown', 'total': 1},\n",
       " {'name': 'Russell Jurney', 'total': 2},\n",
       " {'name': 'Steve Jobs', 'total': 1}]"
      ]
     },
     "execution_count": 16,
     "metadata": {},
     "output_type": "execute_result"
    }
   ],
   "source": [
    "# Convert to a pyspark.sql.DataFrame\n",
    "rows_df = rows.toDF()\n",
    "\n",
    "rows_df.show()\n",
    "\n",
    "# Register the DataFrame for Spark SQL\n",
    "rows_df.registerTempTable(\"executives\")\n",
    "\n",
    "# Generate a new DataFrame with SQL using the SparkSession\n",
    "job_counts = spark.sql(\"\"\"\n",
    "SELECT\n",
    "  name,\n",
    "  COUNT(*) AS total\n",
    "  FROM executives\n",
    "  GROUP BY name\n",
    "\"\"\")\n",
    "job_counts.show()\n",
    "\n",
    "# Go back to an RDD\n",
    "job_counts.rdd.map(lambda x: x.asDict()).collect()"
   ]
  },
  {
   "cell_type": "markdown",
   "metadata": {},
   "source": [
    "## `SparkContext.parallelize()`\n",
    "\n",
    "The oppotiste of `pyspark.RDD.collect()` is `SparkContext.parallelize()`. Whereas `collect` pulls data from Spark's memory into local RAM, `parallelize` sends data from local memory to Spark's memory. \n",
    "\n",
    "You can access it like this: "
   ]
  },
  {
   "cell_type": "code",
   "execution_count": 17,
   "metadata": {},
   "outputs": [
    {
     "data": {
      "text/plain": [
       "1"
      ]
     },
     "execution_count": 17,
     "metadata": {},
     "output_type": "execute_result"
    }
   ],
   "source": [
    "my_rdd = sc.parallelize([1,2,3,4,5])\n",
    "my_rdd.first()"
   ]
  },
  {
   "cell_type": "markdown",
   "metadata": {},
   "source": [
    "## Exercises\n",
    "\n",
    "1. Create your own RDD of `dict` elements with named fields using sc.parallelize. Make it at least 5 records long.\n",
    "2. Convert this RDD of `dicts` into an RDD of `pyspark.sql.Row` elements.\n",
    "3. Convert this RDD of `pyspark.sql.Rows` into a `pyspark.sql.DataFrame`.\n",
    "4. Run a SQL `GROUP BY`/`COUNT` on your new `DataFrame`."
   ]
  },
  {
   "cell_type": "code",
   "execution_count": 18,
   "metadata": {},
   "outputs": [
    {
     "name": "stdout",
     "output_type": "stream",
     "text": [
      "+---------------+--------------+\n",
      "|       interest|          name|\n",
      "+---------------+--------------+\n",
      "| Ancient Greece|Russell Jurney|\n",
      "|Virtual Reality|  Chris Jurney|\n",
      "|         Sports|   Bill Jurney|\n",
      "|       Wildlife|   Ruth Jurney|\n",
      "|         Sports|     Bob Smith|\n",
      "+---------------+--------------+\n",
      "\n",
      "+---------------+-----+\n",
      "|       interest|total|\n",
      "+---------------+-----+\n",
      "|Virtual Reality|    1|\n",
      "|         Sports|    2|\n",
      "|       Wildlife|    1|\n",
      "| Ancient Greece|    1|\n",
      "+---------------+-----+\n",
      "\n"
     ]
    }
   ],
   "source": [
    "my_data = [\n",
    "    {\"name\": \"Russell Jurney\", \"interest\": \"Ancient Greece\"},\n",
    "    {\"name\": \"Chris Jurney\", \"interest\": \"Virtual Reality\"},\n",
    "    {\"name\": \"Bill Jurney\", \"interest\": \"Sports\"},\n",
    "    {\"name\": \"Ruth Jurney\", \"interest\": \"Wildlife\"},\n",
    "    {\"name\": \"Bob Smith\", \"interest\": \"Sports\"}\n",
    "]\n",
    "my_rdd = sc.parallelize(my_data)\n",
    "my_rows = my_rdd.map(lambda x: Row(name=x[\"name\"], interest=x[\"interest\"]))\n",
    "\n",
    "my_df = my_rows.toDF()\n",
    "my_df.show()\n",
    "\n",
    "my_df.registerTempTable(\"people\")\n",
    "spark.sql(\"\"\"SELECT interest, COUNT(*) as total FROM people GROUP BY interest\"\"\").show()"
   ]
  },
  {
   "cell_type": "markdown",
   "metadata": {},
   "source": [
    "## Creating `RDDs` from `DataFrames`\n",
    "\n",
    "We can easily convert back from a `DataFrame` to an `RDD` using the `pyspark.sql.DataFrame.rdd()` method, along with `pyspark.sql.Row.asDict()` if we desire a Python `dict` of our records."
   ]
  },
  {
   "cell_type": "code",
   "execution_count": 19,
   "metadata": {},
   "outputs": [
    {
     "data": {
      "text/plain": [
       "[{'name': 'Donald Trump', 'total': 1},\n",
       " {'name': 'Florian Liebert', 'total': 1},\n",
       " {'name': 'Don Brown', 'total': 1},\n",
       " {'name': 'Russell Jurney', 'total': 2},\n",
       " {'name': 'Steve Jobs', 'total': 1}]"
      ]
     },
     "execution_count": 19,
     "metadata": {},
     "output_type": "execute_result"
    }
   ],
   "source": [
    "job_counts.rdd.map(lambda x: x.asDict()).collect()"
   ]
  },
  {
   "cell_type": "markdown",
   "metadata": {},
   "source": [
    "## Exercises\n",
    "\n",
    "1. Using the data from item 4 in the exercise above, convert the data back to its original form, a local collection of `dict` elements."
   ]
  },
  {
   "cell_type": "code",
   "execution_count": 20,
   "metadata": {},
   "outputs": [
    {
     "data": {
      "text/plain": [
       "[{'interest': 'Ancient Greece', 'name': 'Russell Jurney'},\n",
       " {'interest': 'Virtual Reality', 'name': 'Chris Jurney'},\n",
       " {'interest': 'Sports', 'name': 'Bill Jurney'},\n",
       " {'interest': 'Wildlife', 'name': 'Ruth Jurney'},\n",
       " {'interest': 'Sports', 'name': 'Bob Smith'}]"
      ]
     },
     "execution_count": 20,
     "metadata": {},
     "output_type": "execute_result"
    }
   ],
   "source": [
    "my_df.rdd.map(lambda x: x.asDict()).collect()"
   ]
  },
  {
   "cell_type": "markdown",
   "metadata": {},
   "source": [
    "# Loading and Inspecting Parquet Files\n",
    "\n",
    "Using the `SparkSession` to load files as `DataFrames` and inspecting their contents..."
   ]
  },
  {
   "cell_type": "code",
   "execution_count": 22,
   "metadata": {},
   "outputs": [
    {
     "data": {
      "text/plain": [
       "['Year',\n",
       " 'Quarter',\n",
       " 'Month',\n",
       " 'DayofMonth',\n",
       " 'DayOfWeek',\n",
       " 'FlightDate',\n",
       " 'Carrier',\n",
       " 'TailNum',\n",
       " 'FlightNum',\n",
       " 'Origin',\n",
       " 'OriginCityName',\n",
       " 'OriginState',\n",
       " 'Dest',\n",
       " 'DestCityName',\n",
       " 'DestState',\n",
       " 'DepTime',\n",
       " 'DepDelay',\n",
       " 'DepDelayMinutes',\n",
       " 'TaxiOut',\n",
       " 'TaxiIn',\n",
       " 'WheelsOff',\n",
       " 'WheelsOn',\n",
       " 'ArrTime',\n",
       " 'ArrDelay',\n",
       " 'ArrDelayMinutes',\n",
       " 'Cancelled',\n",
       " 'Diverted',\n",
       " 'ActualElapsedTime',\n",
       " 'AirTime',\n",
       " 'Flights',\n",
       " 'Distance',\n",
       " 'CarrierDelay',\n",
       " 'WeatherDelay',\n",
       " 'NASDelay',\n",
       " 'SecurityDelay',\n",
       " 'LateAircraftDelay',\n",
       " 'CRSDepTime',\n",
       " 'CRSArrTime']"
      ]
     },
     "execution_count": 22,
     "metadata": {},
     "output_type": "execute_result"
    }
   ],
   "source": [
    "# Load the parquet file containing flight delay records\n",
    "on_time_dataframe = spark.read.parquet('../data/on_time_performance.parquet')\n",
    "\n",
    "# Register the data for Spark SQL\n",
    "on_time_dataframe.registerTempTable(\"on_time_performance\")\n",
    "\n",
    "# Check out the columns\n",
    "on_time_dataframe.columns"
   ]
  },
  {
   "cell_type": "code",
   "execution_count": 23,
   "metadata": {},
   "outputs": [
    {
     "name": "stdout",
     "output_type": "stream",
     "text": [
      "+----------+-------+------+----+-------+--------+--------+\n",
      "|FlightDate|TailNum|Origin|Dest|Carrier|DepDelay|ArrDelay|\n",
      "+----------+-------+------+----+-------+--------+--------+\n",
      "|2015-01-01| N919DE|   IND| MSP|     DL|    -9.0|   -20.0|\n",
      "|2015-01-10| N28478|   IAH| PHL|     UA|    33.0|    22.0|\n",
      "|2015-01-10| N75410|   SLC| IAH|     UA|    30.0|    29.0|\n",
      "|2015-01-12| N548AS|   LAX| PDX|     AS|    -6.0|     3.0|\n",
      "|2015-01-12| N608SK|   MSP| FSD|     OO|    -3.0|   -12.0|\n",
      "|2015-01-12| N804SK|   LAX| OAK|     OO|    -5.0|    -7.0|\n",
      "|2015-01-12| N7707C|   OAK| PDX|     WN|    11.0|    13.0|\n",
      "|2015-01-14| N630MQ|   ORD| FAR|     MQ|    75.0|    62.0|\n",
      "|2015-01-15| N133EV|   HPN| ATL|     EV|    -4.0|     4.0|\n",
      "|2015-01-16| N530AS|   SEA| LAX|     AS|    10.0|     7.0|\n",
      "+----------+-------+------+----+-------+--------+--------+\n",
      "only showing top 10 rows\n",
      "\n",
      "+----------+-------+------+----+-------+--------+--------+\n",
      "|FlightDate|TailNum|Origin|Dest|Carrier|DepDelay|ArrDelay|\n",
      "+----------+-------+------+----+-------+--------+--------+\n",
      "|2015-01-01| N003AA|   HDN| DFW|     AA|   332.0|   336.0|\n",
      "|2015-01-01| N012AA|   MIA| TPA|     AA|    null|    null|\n",
      "|2015-01-01| N020AA|   IAD| MIA|     AA|    -6.0|     1.0|\n",
      "|2015-01-01| N023AA|   STL| MIA|     AA|   109.0|   106.0|\n",
      "|2015-01-01| N200AA|   DFW| DEN|     AA|    47.0|    40.0|\n",
      "|2015-01-01| N3AAAA|   RDU| MIA|     AA|    -8.0|    10.0|\n",
      "|2015-01-01| N3ACAA|   DFW| MIA|     AA|    21.0|    22.0|\n",
      "|2015-01-01| N3AKAA|   ORD| RSW|     AA|     5.0|    10.0|\n",
      "|2015-01-01| N3ALAA|   DFW| CLT|     AA|     8.0|    -9.0|\n",
      "|2015-01-01| N3AMAA|   LAX| IAD|     AA|    45.0|    39.0|\n",
      "+----------+-------+------+----+-------+--------+--------+\n",
      "only showing top 10 rows\n",
      "\n"
     ]
    }
   ],
   "source": [
    "# Trim the fields and keep the result\n",
    "trimmed_on_time = on_time_dataframe\\\n",
    "  .select(\n",
    "    \"FlightDate\",\n",
    "    \"TailNum\",\n",
    "    \"Origin\",\n",
    "    \"Dest\",\n",
    "    \"Carrier\",\n",
    "    \"DepDelay\",\n",
    "    \"ArrDelay\"\n",
    "  )\n",
    "\n",
    "# Sample 0.01% of the data and show\n",
    "trimmed_on_time.sample(False, 0.0001).show(10)\n",
    "\n",
    "sampled_ten_percent = trimmed_on_time.sample(False, 0.1)\n",
    "sampled_ten_percent.show(10)"
   ]
  },
  {
   "cell_type": "markdown",
   "metadata": {},
   "source": [
    "## `DataFrame` Workflow: Calculating Speed in Dataflow and SQL\n",
    "\n",
    "We can go back and forth between dataflow programming and SQL programming using `pyspark.sql.DataFrames`. This enables us to get the best of both worlds from these two APIs. For example, if we want to group records and get a total count for each group... a SQL `SELECT/GROUP BY/COUNT` is the most direct way to do it. On the other hand, if we want to filter data, a dataflow API call like `DataFrame.filter()` is the cleanest way. This comes down to personal preference for the user. In time you will develop your own style of working.\n",
    "\n",
    "### Dataflow Programming\n",
    "\n",
    "If we were to look at the `AirTime` along with the `Distance`, we could get a good idea of how fast the airplanes were going. Pretty cool! Lets do this using Dataflows first.\n",
    "\n",
    "#### Trimming Our Data\n",
    "\n",
    "First lets select just the two columns of interest: `AirTime` and `Distance`. We can always go back and select more columns if we want to extend our analysis, but trimming uneeded fields optimizes performance right away."
   ]
  },
  {
   "cell_type": "code",
   "execution_count": 24,
   "metadata": {},
   "outputs": [
    {
     "name": "stdout",
     "output_type": "stream",
     "text": [
      "+-------+--------+\n",
      "|AirTime|Distance|\n",
      "+-------+--------+\n",
      "|   59.0|   432.0|\n",
      "|   77.0|   432.0|\n",
      "|  129.0|   802.0|\n",
      "|   93.0|   731.0|\n",
      "|  111.0|   769.0|\n",
      "|  108.0|   769.0|\n",
      "+-------+--------+\n",
      "only showing top 6 rows\n",
      "\n"
     ]
    }
   ],
   "source": [
    "fd = on_time_dataframe.select(\"AirTime\", \"Distance\")\n",
    "fd.show(6)"
   ]
  },
  {
   "cell_type": "markdown",
   "metadata": {},
   "source": [
    "#### From Minutes to Hours\n",
    "\n",
    "Now lets convert our `AirTime` from minutes to hours by dividing by 60."
   ]
  },
  {
   "cell_type": "code",
   "execution_count": 25,
   "metadata": {},
   "outputs": [
    {
     "name": "stdout",
     "output_type": "stream",
     "text": [
      "+------------------+--------+\n",
      "|             Hours|Distance|\n",
      "+------------------+--------+\n",
      "|0.9833333333333333|   432.0|\n",
      "|1.2833333333333334|   432.0|\n",
      "|              2.15|   802.0|\n",
      "|              1.55|   731.0|\n",
      "|              1.85|   769.0|\n",
      "+------------------+--------+\n",
      "only showing top 5 rows\n",
      "\n"
     ]
    }
   ],
   "source": [
    "hourly_fd = fd.select((fd.AirTime / 60).alias('Hours'), \"Distance\")\n",
    "hourly_fd.show(5)"
   ]
  },
  {
   "cell_type": "markdown",
   "metadata": {},
   "source": [
    "#### Raw Calculation\n",
    "\n",
    "Now lets calculate miles per hour!"
   ]
  },
  {
   "cell_type": "code",
   "execution_count": 26,
   "metadata": {},
   "outputs": [
    {
     "name": "stdout",
     "output_type": "stream",
     "text": [
      "+------------------+\n",
      "|               Mph|\n",
      "+------------------+\n",
      "| 439.3220338983051|\n",
      "| 336.6233766233766|\n",
      "| 373.0232558139535|\n",
      "|471.61290322580646|\n",
      "| 415.6756756756757|\n",
      "|427.22222222222223|\n",
      "| 430.2739726027398|\n",
      "|              null|\n",
      "|              null|\n",
      "|              null|\n",
      "+------------------+\n",
      "only showing top 10 rows\n",
      "\n"
     ]
    }
   ],
   "source": [
    "miles_per_hour = hourly_fd.select(\n",
    "    (hourly_fd.Distance / hourly_fd.Hours).alias('Mph')\n",
    ")\n",
    "miles_per_hour.show(10)"
   ]
  },
  {
   "cell_type": "markdown",
   "metadata": {},
   "source": [
    "#### Investigating `nulls`\n",
    "\n",
    "Looks like we have some errors in some records in our calculation because of missing fields? Lets bring back in the `Distance` and `AirTime` fields to see where the problem is coming from."
   ]
  },
  {
   "cell_type": "code",
   "execution_count": 27,
   "metadata": {},
   "outputs": [
    {
     "name": "stdout",
     "output_type": "stream",
     "text": [
      "+-------+------------------+--------+\n",
      "|AirTime|             Hours|Distance|\n",
      "+-------+------------------+--------+\n",
      "|   59.0|0.9833333333333333|   432.0|\n",
      "|   77.0|1.2833333333333334|   432.0|\n",
      "|  129.0|              2.15|   802.0|\n",
      "|   93.0|              1.55|   731.0|\n",
      "|  111.0|              1.85|   769.0|\n",
      "|  108.0|               1.8|   769.0|\n",
      "|  146.0| 2.433333333333333|  1047.0|\n",
      "|   null|              null|  1007.0|\n",
      "|   null|              null|  1007.0|\n",
      "|   null|              null|   802.0|\n",
      "|   null|              null|   731.0|\n",
      "|  122.0| 2.033333333333333|   731.0|\n",
      "|   94.0|1.5666666666666667|   731.0|\n",
      "|   91.0|1.5166666666666666|   731.0|\n",
      "|  115.0|1.9166666666666667|   731.0|\n",
      "|   89.0|1.4833333333333334|   731.0|\n",
      "|  106.0|1.7666666666666666|   721.0|\n",
      "|   94.0|1.5666666666666667|   748.0|\n",
      "|   null|              null|   733.0|\n",
      "|   null|              null|   733.0|\n",
      "+-------+------------------+--------+\n",
      "only showing top 20 rows\n",
      "\n"
     ]
    }
   ],
   "source": [
    "fd.select(\n",
    "    \"AirTime\", \n",
    "    (fd.AirTime / 60).alias('Hours'), \n",
    "    \"Distance\"\n",
    ").show()"
   ]
  },
  {
   "cell_type": "markdown",
   "metadata": {},
   "source": [
    "#### Filtering `nulls`\n",
    "\n",
    "Now that we know some records are missing `AirTimes`, we can filter those records using `pyspark.sql.DataFrame.filter()`. Starting from the beginning, lets recalculate our values."
   ]
  },
  {
   "cell_type": "code",
   "execution_count": 28,
   "metadata": {},
   "outputs": [
    {
     "name": "stdout",
     "output_type": "stream",
     "text": [
      "+------------------+\n",
      "|               Mph|\n",
      "+------------------+\n",
      "| 439.3220338983051|\n",
      "| 336.6233766233766|\n",
      "| 373.0232558139535|\n",
      "|471.61290322580646|\n",
      "| 415.6756756756757|\n",
      "|427.22222222222223|\n",
      "| 430.2739726027398|\n",
      "| 359.5081967213115|\n",
      "|466.59574468085106|\n",
      "|  481.978021978022|\n",
      "+------------------+\n",
      "only showing top 10 rows\n",
      "\n"
     ]
    }
   ],
   "source": [
    "fd = on_time_dataframe.select(\"AirTime\", \"Distance\")\n",
    "filled_fd = fd.filter(fd.AirTime.isNotNull())\n",
    "hourly_fd = filled_fd.select(\n",
    "    \"AirTime\", \n",
    "    (filled_fd.AirTime / 60).alias('Hours'), \n",
    "    \"Distance\"\n",
    ")\n",
    "mph = hourly_fd.select((hourly_fd.Distance / hourly_fd.Hours).alias('Mph'))\n",
    "mph.show(10)"
   ]
  },
  {
   "cell_type": "markdown",
   "metadata": {},
   "source": [
    "#### Averaging Speed\n",
    "\n",
    "How fast does the fleet travel overall? Lets compute the average speed for the entire fleet."
   ]
  },
  {
   "cell_type": "code",
   "execution_count": 29,
   "metadata": {},
   "outputs": [
    {
     "name": "stdout",
     "output_type": "stream",
     "text": [
      "+------------------+\n",
      "|          avg(Mph)|\n",
      "+------------------+\n",
      "|408.72370268242895|\n",
      "+------------------+\n",
      "\n"
     ]
    }
   ],
   "source": [
    "from pyspark.sql.functions import avg\n",
    "\n",
    "mph.select(\n",
    "    pyspark.sql.functions.avg(mph.Mph)\n",
    ").show()"
   ]
  },
  {
   "cell_type": "markdown",
   "metadata": {},
   "source": [
    "It looks like the average speed of the fleet is 408 mph. Note how along the way we chekced the data for sanity, which led to confidence in our answer. SQL by contast can hide the internals of a query, which might have skewed our average significantly! \n",
    "\n",
    "### SQL-Based Speed Calculation\n",
    "\n",
    "Now lets work the same thing out in SQL. Starting from the top:"
   ]
  },
  {
   "cell_type": "code",
   "execution_count": 30,
   "metadata": {},
   "outputs": [
    {
     "name": "stdout",
     "output_type": "stream",
     "text": [
      "+-----------------+\n",
      "|              Mph|\n",
      "+-----------------+\n",
      "|265.7142857142857|\n",
      "|265.7142857142857|\n",
      "|265.7142857142857|\n",
      "|265.7142857142857|\n",
      "|265.7142857142857|\n",
      "|265.7142857142857|\n",
      "|265.7142857142857|\n",
      "|            232.5|\n",
      "|            232.5|\n",
      "|            232.5|\n",
      "+-----------------+\n",
      "only showing top 10 rows\n",
      "\n",
      "+-----------------+\n",
      "|         avg(Mph)|\n",
      "+-----------------+\n",
      "|408.7237026822692|\n",
      "+-----------------+\n",
      "\n"
     ]
    }
   ],
   "source": [
    "on_time_dataframe.registerTempTable(\"on_time_performance\")\n",
    "\n",
    "mph = spark.sql(\"\"\"\n",
    "SELECT ( Distance / ( AirTime/60 ) ) AS Mph \n",
    "FROM on_time_performance \n",
    "WHERE AirTime IS NOT NULL\n",
    "ORDER BY AirTime\n",
    "\"\"\")\n",
    "mph.show(10)\n",
    "\n",
    "mph.registerTempTable(\"mph\")\n",
    "spark.sql(\"SELECT AVG(Mph) from mph\").show()"
   ]
  },
  {
   "cell_type": "markdown",
   "metadata": {},
   "source": [
    "### Evaluating SQL\n",
    "\n",
    "The SQL based solution seems to be better in this case, because we can simply express our calculation all in one place. When complexity grows however, it is best to break a single query into multiple stages where you use SQL or Dataflow programming to massage the data into shape."
   ]
  },
  {
   "cell_type": "markdown",
   "metadata": {},
   "source": [
    "# Calculating Histograms\n",
    "\n",
    "Having computed the speed in miles per hour and the overall average speed of passenger jets in the US, lets dig deeper by using the `RDD` API's histogram method to calculate histograms buckets and values, which will then use to visualize data."
   ]
  },
  {
   "cell_type": "code",
   "execution_count": 31,
   "metadata": {},
   "outputs": [
    {
     "data": {
      "text/plain": [
       "([32.34375,\n",
       "  107.89626024590164,\n",
       "  183.4487704918033,\n",
       "  259.0012807377049,\n",
       "  334.5537909836066,\n",
       "  410.10630122950823,\n",
       "  485.65881147540983,\n",
       "  561.2113217213115,\n",
       "  636.7638319672132,\n",
       "  712.3163422131148,\n",
       "  787.8688524590165],\n",
       " [174, 14255, 148314, 643901, 1861699, 2357002, 664609, 23997, 32, 25])"
      ]
     },
     "execution_count": 31,
     "metadata": {},
     "output_type": "execute_result"
    }
   ],
   "source": [
    "# Compute a histogram of departure delays\n",
    "mph\\\n",
    "  .select(\"Mph\")\\\n",
    "  .rdd\\\n",
    "  .flatMap(lambda x: x)\\\n",
    "  .histogram(10)"
   ]
  },
  {
   "cell_type": "markdown",
   "metadata": {},
   "source": [
    "# Visualizing Histograms\n",
    "\n",
    "The problem with the output above is that it is hard to interpret. For better understanding, we need a visualization. We can use `matplotlib` inline in a Jupyter Notebook to visualize this distribution and see what the tendency of speed of airplanes is around the mean of 408 mph."
   ]
  },
  {
   "cell_type": "code",
   "execution_count": 32,
   "metadata": {},
   "outputs": [
    {
     "data": {
      "text/plain": [
       "<BarContainer object of 10 artists>"
      ]
     },
     "execution_count": 32,
     "metadata": {},
     "output_type": "execute_result"
    },
    {
     "data": {
      "image/png": "[encoded data removed]",
      "text/plain": [
       "<Figure size 432x288 with 1 Axes>"
      ]
     },
     "metadata": {
      "needs_background": "light"
     },
     "output_type": "display_data"
    }
   ],
   "source": [
    "%matplotlib inline\n",
    "\n",
    "import numpy as np\n",
    "import matplotlib.mlab as mlab\n",
    "import matplotlib.pyplot as plt\n",
    "\n",
    "# Function to plot a histogram using pyplot\n",
    "def create_hist(rdd_histogram_data):\n",
    "  \"\"\"Given an RDD.histogram, plot a pyplot histogram\"\"\"\n",
    "  heights = np.array(rdd_histogram_data[1])\n",
    "  full_bins = rdd_histogram_data[0]\n",
    "  mid_point_bins = full_bins[:-1]\n",
    "  widths = [abs(i - j) for i, j in zip(full_bins[:-1], full_bins[1:])]\n",
    "  bar = plt.bar(mid_point_bins, heights, width=widths, color='b')\n",
    "  return bar\n",
    "\n",
    "# Compute a histogram of departure delays\n",
    "departure_delay_histogram = mph\\\n",
    "  .select(\"Mph\")\\\n",
    "  .rdd\\\n",
    "  .flatMap(lambda x: x)\\\n",
    "  .histogram(10)\n",
    "\n",
    "create_hist(departure_delay_histogram)"
   ]
  },
  {
   "cell_type": "markdown",
   "metadata": {},
   "source": [
    "## Iterating on a Histogram\n",
    "\n",
    "That looks interesting, but the bars seem to fat the really see what is going on. Lets double the number of buckets from 10 to 20. We can reuse the `create_hist()` method to do so."
   ]
  },
  {
   "cell_type": "code",
   "execution_count": 33,
   "metadata": {},
   "outputs": [
    {
     "data": {
      "text/plain": [
       "<BarContainer object of 20 artists>"
      ]
     },
     "execution_count": 33,
     "metadata": {},
     "output_type": "execute_result"
    },
    {
     "data": {
      "image/png": "[encoded data removed]",
      "text/plain": [
       "<Figure size 432x288 with 1 Axes>"
      ]
     },
     "metadata": {
      "needs_background": "light"
     },
     "output_type": "display_data"
    }
   ],
   "source": [
    "# Compute a histogram of departure delays\n",
    "departure_delay_histogram = mph\\\n",
    "  .select(\"Mph\")\\\n",
    "  .rdd\\\n",
    "  .flatMap(lambda x: x)\\\n",
    "  .histogram(20)\n",
    "\n",
    "create_hist(departure_delay_histogram)"
   ]
  },
  {
   "cell_type": "markdown",
   "metadata": {},
   "source": [
    "## Speed Summary\n",
    "\n",
    "You've now seen how to calculate different values in both SQL and Dataflow style, how to switch between the two methods, how to switch between the `pyspark.RDD` and `pyspark.sql.DataFrame` APIs and you're starting to build a proficiency in PySpark!"
   ]
  },
  {
   "cell_type": "markdown",
   "metadata": {},
   "source": [
    "# Counting Airplanes in the US Fleet\n",
    "\n",
    "Lets convert our `on_time_dataframe` (a `DataFrame`) into an `RDD` to calculate the total number of airplanes in the US fleet."
   ]
  },
  {
   "cell_type": "code",
   "execution_count": 34,
   "metadata": {},
   "outputs": [
    {
     "name": "stdout",
     "output_type": "stream",
     "text": [
      "Total airplanes: 4897\n"
     ]
    }
   ],
   "source": [
    "# Dump the unneeded fields\n",
    "tail_numbers = on_time_dataframe.rdd.map(lambda x: x.TailNum)\n",
    "tail_numbers = tail_numbers.filter(lambda x: x != '' and x is not None)\n",
    "\n",
    "# distinct() gets us unique tail numbers\n",
    "unique_tail_numbers = tail_numbers.distinct()\n",
    "\n",
    "# now we need a count() of unique tail numbers\n",
    "airplane_count = unique_tail_numbers.count()\n",
    "print(\"Total airplanes: {}\".format(airplane_count))"
   ]
  },
  {
   "cell_type": "markdown",
   "metadata": {},
   "source": [
    "# Exercise 1: Characterizing Airports\n",
    "\n",
    "Using the techniques we demonstated above, calculate any 3 out of 4 of the following things using both the SQL and the Dataflow methods for each one. That is: implement each calculation twice - once in SQL and once using Dataflows. Try to use both the `RDD` and `DataFrame` APIs as you work.\n",
    "\n",
    "1. How many airports are there in the united states?\n",
    "2. What is the average flight time for flights arriving in San Francisco (SFO)? What does the distribution of this value look like? Plot a histogram using the `create_hist` method shown above.\n",
    "3. Which American airport has the fastest out-bound speeds? What does the distribution of the flight speeds at this one airport look like? Plot a histogram using the `create_hist` method shown above.\n",
    "4. What were the worst travel dates in terms of overall delayed flights in the US in 2015?"
   ]
  },
  {
   "cell_type": "code",
   "execution_count": 35,
   "metadata": {},
   "outputs": [
    {
     "name": "stdout",
     "output_type": "stream",
     "text": [
      "+------+------------------+\n",
      "|Origin|          avg(Mph)|\n",
      "+------+------------------+\n",
      "|   BGM| 346.1853538898441|\n",
      "|   PSE| 452.6117680000053|\n",
      "|   INL|286.26851316932107|\n",
      "|   DLG|395.85893026325215|\n",
      "|   MSY| 417.8806617127785|\n",
      "|   PPG| 504.2422916767315|\n",
      "|   GEG|  402.285589290541|\n",
      "|   SNA| 417.1687699400066|\n",
      "|   BUR|381.54113589717645|\n",
      "|   GRB| 304.8341806425415|\n",
      "|   GTF| 425.3390308053375|\n",
      "|   IDA|352.21033421102914|\n",
      "|   GRR| 345.7402330340281|\n",
      "|   JLN|333.89806917791054|\n",
      "|   PSG| 218.6399366568302|\n",
      "|   EUG|408.36973646170964|\n",
      "|   PVD|  377.284933612292|\n",
      "|   GSO| 363.1599876379004|\n",
      "|   MYR|392.41545245530034|\n",
      "|   OAK| 411.1720814918298|\n",
      "+------+------------------+\n",
      "only showing top 20 rows\n",
      "\n"
     ]
    }
   ],
   "source": [
    "origin_hour_dist = on_time_dataframe.filter(\n",
    "    on_time_dataframe.AirTime.isNotNull()\n",
    ").select(\n",
    "    \"Origin\", \n",
    "    (on_time_dataframe.AirTime/60).alias(\"Hours\"), \n",
    "    \"Distance\"\n",
    ")\n",
    "mph_origins = origin_hour_dist.select(\n",
    "    \"Origin\", \n",
    "    (origin_hour_dist.Distance / origin_hour_dist.Hours).alias(\"Mph\")\n",
    ")\n",
    "mph_origins.registerTempTable(\"mph_origins\")\n",
    "\n",
    "avg_speeds = mph_origins.groupBy(\"Origin\").agg({\"Mph\": \"avg\"}).alias(\"Mph\")\n",
    "avg_speeds.show()"
   ]
  },
  {
   "cell_type": "code",
   "execution_count": null,
   "metadata": {},
   "outputs": [],
   "source": [
    "on_time_dataframe.columns"
   ]
  },
  {
   "cell_type": "markdown",
   "metadata": {},
   "source": [
    "## Calculating with `DataFrame.groupBy`\n",
    "\n",
    "We can use Spark SQL to calculate things using `DataFrames`, but we can also group data and calculate as we did with `RDDs`. For a full list of methods you can apply to grouped `DataFrames`, see [the documentation for pyspark.sql.GroupedData](http://spark.apache.org/docs/latest/api/python/pyspark.sql.html#pyspark.sql.GroupedData). Below we will demonstrate some of these methods."
   ]
  },
  {
   "cell_type": "code",
   "execution_count": 36,
   "metadata": {},
   "outputs": [
    {
     "name": "stdout",
     "output_type": "stream",
     "text": [
      "+------+----------------+--------------------+------------------+---------------+-----------------+--------------------+--------------------+-------------+----------------------+-----------------+------------+-------------+-----------------+-----------------+------------------+--------------------+----------------------+\n",
      "|Origin|   avg(DepDelay)|avg(DepDelayMinutes)|      avg(TaxiOut)|    avg(TaxiIn)|    avg(ArrDelay)|avg(ArrDelayMinutes)|      avg(Cancelled)|avg(Diverted)|avg(ActualElapsedTime)|     avg(AirTime)|avg(Flights)|avg(Distance)|avg(CarrierDelay)|avg(WeatherDelay)|     avg(NASDelay)|  avg(SecurityDelay)|avg(LateAircraftDelay)|\n",
      "+------+----------------+--------------------+------------------+---------------+-----------------+--------------------+--------------------+-------------+----------------------+-----------------+------------+-------------+-----------------+-----------------+------------------+--------------------+----------------------+\n",
      "|   BGM|9.42056074766355|  15.177570093457945|16.193146417445483|6.2398753894081|6.218068535825545|   16.32398753894081|0.009259259259259259|          0.0|      88.4423676012461|66.00934579439253|         1.0|        378.0|58.67307692307692|              0.0|10.711538461538462|0.057692307692307696|    26.903846153846153|\n",
      "+------+----------------+--------------------+------------------+---------------+-----------------+--------------------+--------------------+-------------+----------------------+-----------------+------------+-------------+-----------------+-----------------+------------------+--------------------+----------------------+\n",
      "only showing top 1 row\n",
      "\n",
      "+------+-----------------+\n",
      "|Origin|     avg(AirTime)|\n",
      "+------+-----------------+\n",
      "|   BGM|66.00934579439253|\n",
      "+------+-----------------+\n",
      "only showing top 1 row\n",
      "\n",
      "+------+-----+\n",
      "|Origin|count|\n",
      "+------+-----+\n",
      "|   BGM|  324|\n",
      "+------+-----+\n",
      "only showing top 1 row\n",
      "\n",
      "+------+------------+\n",
      "|Origin|max(AirTime)|\n",
      "+------+------------+\n",
      "|   BGM|        91.0|\n",
      "+------+------------+\n",
      "only showing top 1 row\n",
      "\n",
      "+------+-------------+--------------------+------------+-----------+-------------+--------------------+--------------+-------------+----------------------+------------+------------+-------------+-----------------+-----------------+-------------+------------------+----------------------+\n",
      "|Origin|max(DepDelay)|max(DepDelayMinutes)|max(TaxiOut)|max(TaxiIn)|max(ArrDelay)|max(ArrDelayMinutes)|max(Cancelled)|max(Diverted)|max(ActualElapsedTime)|max(AirTime)|max(Flights)|max(Distance)|max(CarrierDelay)|max(WeatherDelay)|max(NASDelay)|max(SecurityDelay)|max(LateAircraftDelay)|\n",
      "+------+-------------+--------------------+------------+-----------+-------------+--------------------+--------------+-------------+----------------------+------------+------------+-------------+-----------------+-----------------+-------------+------------------+----------------------+\n",
      "|   BGM|        993.0|                 993|       100.0|       30.0|       1005.0|              1005.0|             1|            0|                 163.0|        91.0|           1|        378.0|            993.0|              0.0|         74.0|               3.0|                 364.0|\n",
      "+------+-------------+--------------------+------------+-----------+-------------+--------------------+--------------+-------------+----------------------+------------+------------+-------------+-----------------+-----------------+-------------+------------------+----------------------+\n",
      "only showing top 1 row\n",
      "\n",
      "+------+------------+\n",
      "|Origin|min(AirTime)|\n",
      "+------+------------+\n",
      "|   BGM|        56.0|\n",
      "+------+------------+\n",
      "only showing top 1 row\n",
      "\n",
      "+------+------------+\n",
      "|Origin|sum(AirTime)|\n",
      "+------+------------+\n",
      "|   BGM|     21189.0|\n",
      "+------+------------+\n",
      "only showing top 1 row\n",
      "\n"
     ]
    }
   ],
   "source": [
    "# Calculate average of every numeric field\n",
    "on_time_dataframe.groupBy(\"Origin\").avg().show(1)\n",
    "\n",
    "# Calculate verage AirTime per origin city\n",
    "on_time_dataframe.groupBy(\"Origin\").agg({\"AirTime\": \"mean\"}).show(1)\n",
    "\n",
    "# Get the count of flights from each origin\n",
    "on_time_dataframe.groupBy(\"Origin\").count().show(1)\n",
    "\n",
    "# Get the maximum airtime for flights leaving each city\n",
    "on_time_dataframe.groupby(\"Origin\").agg({\"AirTime\": \"max\"}).show(1)\n",
    "\n",
    "# Get the maximum of all numeric columns for flights leaving each city\n",
    "on_time_dataframe.groupBy(\"Origin\").max().show(1)\n",
    "\n",
    "# Get the shortest flight for each origin airport\n",
    "on_time_dataframe.groupBy(\"Origin\").agg({\"AirTime\": \"min\"}).show(1)\n",
    "\n",
    "# Total minutes flown from each airport\n",
    "on_time_dataframe.groupBy(\"Origin\").agg({\"AirTime\": \"sum\"}).show(1)"
   ]
  },
  {
   "cell_type": "markdown",
   "metadata": {},
   "source": [
    "### Pivoting DataFrames\n",
    "\n",
    "One useful function of `DataFrames` is `pivot`. Pivot lets you compute pivot tables from data. Lets use `pivot` to calculate the average flight times between Atlanta `ATL` and other airports."
   ]
  },
  {
   "cell_type": "code",
   "execution_count": 37,
   "metadata": {},
   "outputs": [
    {
     "data": {
      "text/plain": [
       "{'Origin': 'ATL',\n",
       " 'ABE': 96.59897959183674,\n",
       " 'ABQ': 172.1290684624018,\n",
       " 'ABY': 29.252365930599368,\n",
       " 'ACY': 90.23557692307692,\n",
       " 'AEX': 78.87462235649546,\n",
       " 'AGS': 29.076743280093496,\n",
       " 'ALB': 108.65161923454367,\n",
       " 'ANC': 426.3529411764706,\n",
       " 'ASE': 198.09574468085106,\n",
       " 'ATW': 105.11235955056179,\n",
       " 'AUS': 117.13764946048411,\n",
       " 'AVL': 33.510327455919395,\n",
       " 'AVP': 93.94900849858357,\n",
       " 'AZO': 86.6842105263158,\n",
       " 'BDL': 109.44785031847134,\n",
       " 'BHM': 28.848588537211292,\n",
       " 'BMI': 78.14963119072708,\n",
       " 'BNA': 38.880419382261266,\n",
       " 'BOS': 120.84425582313462,\n",
       " 'BQK': 41.63483735571878,\n",
       " 'BTR': 70.18819188191883,\n",
       " 'BTV': 119.43465045592706,\n",
       " 'BUF': 93.706432748538,\n",
       " 'BWI': 81.02321908071394,\n",
       " 'BZN': 220.15625,\n",
       " 'CAE': 33.79744210162461,\n",
       " 'CAK': 72.89645776566758,\n",
       " 'CHA': 24.022727272727273,\n",
       " 'CHO': 66.9613478691774,\n",
       " 'CHS': 42.49556255367879,\n",
       " 'CID': 101.25268817204301,\n",
       " 'CLE': 77.47449470644851,\n",
       " 'CLT': 41.581799591002046,\n",
       " 'CMH': 66.05350605463249,\n",
       " 'COS': 161.14626865671642,\n",
       " 'CRW': 57.365990202939116,\n",
       " 'CSG': 20.638461538461538,\n",
       " 'CVG': 58.29219530949635,\n",
       " 'DAB': 54.343106674984405,\n",
       " 'DAL': 107.51469163706813,\n",
       " 'DAY': 63.95127118644068,\n",
       " 'DCA': 77.81844338944038,\n",
       " 'DEN': 168.22181282240237,\n",
       " 'DFW': 111.94913462808826,\n",
       " 'DHN': 33.231617647058826,\n",
       " 'DSM': 105.68818272095332,\n",
       " 'DTW': 87.08653664078773,\n",
       " 'ECP': 41.33196534427724,\n",
       " 'EGE': 188.8181818181818,\n",
       " 'ELM': 87.84615384615384,\n",
       " 'ELP': 171.9362244897959,\n",
       " 'EVV': 56.99230769230769,\n",
       " 'EWN': 61.98867313915858,\n",
       " 'EWR': 101.52093279471171,\n",
       " 'EYW': 87.044921875,\n",
       " 'FAR': 151.3846153846154,\n",
       " 'FAY': 51.07640067911715,\n",
       " 'FCA': 242.04,\n",
       " 'FLL': 84.61670182404765,\n",
       " 'FNT': 89.2876447876448,\n",
       " 'FSD': 132.47368421052633,\n",
       " 'FSM': 88.34068965517241,\n",
       " 'FWA': 75.94344473007712,\n",
       " 'GJT': None,\n",
       " 'GNV': 48.145907473309606,\n",
       " 'GPT': 56.39078947368421,\n",
       " 'GRB': 107.31177829099308,\n",
       " 'GRK': 114.30221518987342,\n",
       " 'GRR': 87.19142857142857,\n",
       " 'GSO': 49.15724137931034,\n",
       " 'GSP': 30.053024645257654,\n",
       " 'GTR': 44.07607607607608,\n",
       " 'HDN': 191.74736842105264,\n",
       " 'HNL': 546.5,\n",
       " 'HOU': 105.17070383912248,\n",
       " 'HPN': 109.62556165751373,\n",
       " 'HSV': 31.34819769602378,\n",
       " 'IAD': 76.36581920903954,\n",
       " 'IAH': 102.31285988483685,\n",
       " 'ICT': 111.22064393939394,\n",
       " 'ILM': 55.823125357756155,\n",
       " 'IND': 65.04984348663616,\n",
       " 'JAC': 212.4757281553398,\n",
       " 'JAN': 54.522334004024145,\n",
       " 'JAX': 43.31659192825112,\n",
       " 'JFK': 104.3519768563163,\n",
       " 'LAN': 90.23076923076923,\n",
       " 'LAS': 232.89032258064515,\n",
       " 'LAX': 256.5899419729207,\n",
       " 'LEX': 48.87252924566357,\n",
       " 'LFT': 78.40828856485035,\n",
       " 'LGA': 102.68517445230091,\n",
       " 'LIT': 69.1775396085741,\n",
       " 'LNK': 119.29885057471265,\n",
       " 'MBS': 98.26666666666667,\n",
       " 'MCI': 103.08773784355179,\n",
       " 'MCO': 60.877189043556356,\n",
       " 'MDT': 84.41851494696239,\n",
       " 'MDW': 88.65857142857143,\n",
       " 'MEM': 56.11916026020106,\n",
       " 'MGM': 31.892723492723494,\n",
       " 'MHT': 119.974930362117,\n",
       " 'MIA': 85.72141706924316,\n",
       " 'MKE': 94.42390670553935,\n",
       " 'MLB': 64.01593901593901,\n",
       " 'MLI': 90.73167848699764,\n",
       " 'MLU': 71.84965304548959,\n",
       " 'MOB': 52.496899545266636,\n",
       " 'MSN': 98.24233128834356,\n",
       " 'MSO': 240.26666666666668,\n",
       " 'MSP': 129.69842810013586,\n",
       " 'MSY': 67.13189171343677,\n",
       " 'MTJ': 195.62857142857143,\n",
       " 'MYR': 47.62226512226512,\n",
       " 'OAJ': 58.33685064935065,\n",
       " 'OAK': 295.140625,\n",
       " 'OKC': 108.98932219127205,\n",
       " 'OMA': 118.01823361823362,\n",
       " 'ONT': 252.33333333333334,\n",
       " 'ORD': 93.76928500916655,\n",
       " 'ORF': 68.94117647058823,\n",
       " 'PBI': 80.84571553802323,\n",
       " 'PDX': 283.55982905982904,\n",
       " 'PHF': 72.09481481481481,\n",
       " 'PHL': 93.60806835691274,\n",
       " 'PHX': 216.42130445731553,\n",
       " 'PIA': 85.57802874743327,\n",
       " 'PIT': 72.58607132827858,\n",
       " 'PNS': 47.029735234215885,\n",
       " 'PVD': 114.56133464180569,\n",
       " 'PWM': 126.81884057971014,\n",
       " 'RAP': 163.13333333333333,\n",
       " 'RDU': 54.620066109274745,\n",
       " 'RIC': 65.85651612903226,\n",
       " 'ROA': 57.06195244055069,\n",
       " 'ROC': 96.48102466793169,\n",
       " 'RST': 118.55202312138728,\n",
       " 'RSW': 74.23462897526501,\n",
       " 'SAN': 247.43282236248874,\n",
       " 'SAT': 124.2874558870709,\n",
       " 'SAV': 37.248983149331785,\n",
       " 'SBN': 85.35600335852224,\n",
       " 'SCE': 87.58974358974359,\n",
       " 'SDF': 53.38678295873868,\n",
       " 'SEA': 289.20415814587597,\n",
       " 'SFO': 279.49426976197475,\n",
       " 'SGF': 87.09448818897638,\n",
       " 'SHV': 84.34255898366607,\n",
       " 'SJC': 277.67333333333335,\n",
       " 'SJU': 184.041015625,\n",
       " 'SLC': 213.2850971922246,\n",
       " 'SMF': 272.2068965517241,\n",
       " 'SNA': 251.88867745004757,\n",
       " 'SRQ': 65.03754752851711,\n",
       " 'STL': 75.68986187125358,\n",
       " 'STT': 189.22590361445782,\n",
       " 'STX': 196.3783783783784,\n",
       " 'SYR': 101.62786259541984,\n",
       " 'TLH': 39.01092179991262,\n",
       " 'TPA': 60.845393024466425,\n",
       " 'TRI': 39.92660550458716,\n",
       " 'TTN': 95.16193181818181,\n",
       " 'TUL': 97.27774408732566,\n",
       " 'TUS': 204.35355029585799,\n",
       " 'TVC': 103.75757575757575,\n",
       " 'TYS': 30.09027777777778,\n",
       " 'VLD': 37.780971258671954,\n",
       " 'VPS': 43.24717691342534,\n",
       " 'XNA': 89.38354577056779}"
      ]
     },
     "execution_count": 37,
     "metadata": {},
     "output_type": "execute_result"
    }
   ],
   "source": [
    "on_time_dataframe\\\n",
    "    .filter(\"Origin == 'ATL'\")\\\n",
    "    .groupBy(\"Origin\")\\\n",
    "    .pivot(\"Dest\")\\\n",
    "    .avg(\"AirTime\")\\\n",
    "    .rdd\\\n",
    "    .map(lambda x: x.asDict())\\\n",
    "    .collect()[0]"
   ]
  },
  {
   "cell_type": "markdown",
   "metadata": {},
   "source": [
    "# Plotting Scatterplots\n",
    "\n",
    "Another type of visualization that is of interest to data scientists is the scatterplot. A scatterplot enables us to compare the trend of one value plotted against the other. For example, we could calculate the relationship between `Origin` and `Dest` `Distance` and the `Mph` speed figure we calculated earlier. Are longer flights generally faster, or not?\n",
    "\n",
    "To prepare a scatterplot, we need to use `matplotlib` again, so we'll need to look at what its scatterplot API expects. The `matplotlib.pyplot.scatter` API takes two independant lists of values for the variables x and y, so we must compute them for `Distance` and `Mph`."
   ]
  },
  {
   "cell_type": "code",
   "execution_count": 38,
   "metadata": {},
   "outputs": [
    {
     "name": "stdout",
     "output_type": "stream",
     "text": [
      "+--------+------------------+\n",
      "|Distance|               Mph|\n",
      "+--------+------------------+\n",
      "|   432.0| 439.3220338983051|\n",
      "|   432.0| 336.6233766233766|\n",
      "|   802.0| 373.0232558139535|\n",
      "|   731.0|471.61290322580646|\n",
      "|   769.0| 415.6756756756757|\n",
      "|   769.0|427.22222222222223|\n",
      "|  1047.0| 430.2739726027398|\n",
      "|   731.0| 359.5081967213115|\n",
      "|   731.0|466.59574468085106|\n",
      "|   731.0|  481.978021978022|\n",
      "+--------+------------------+\n",
      "only showing top 10 rows\n",
      "\n"
     ]
    }
   ],
   "source": [
    "mph = spark.sql(\"\"\"\n",
    "SELECT \n",
    "    Distance, \n",
    "    ( Distance / ( AirTime/60 ) ) AS Mph \n",
    "FROM on_time_performance \n",
    "WHERE AirTime IS NOT NULL\n",
    "\"\"\")\n",
    "mph.show(10)"
   ]
  },
  {
   "cell_type": "markdown",
   "metadata": {},
   "source": [
    "### Collecting Data\n",
    "\n",
    "Note that we will have to convert our data from existing within our Spark cluster's memory to within our local computer's memory where `matplotlib` runs."
   ]
  },
  {
   "cell_type": "code",
   "execution_count": 39,
   "metadata": {},
   "outputs": [
    {
     "data": {
      "text/plain": [
       "[432.0, 432.0, 802.0, 731.0, 769.0, 769.0, 1047.0, 731.0, 731.0, 731.0]"
      ]
     },
     "execution_count": 39,
     "metadata": {},
     "output_type": "execute_result"
    }
   ],
   "source": [
    "distance = mph.select(\"Distance\").rdd.flatMap(lambda x: x)\n",
    "distance = distance.collect()\n",
    "distance[0:10]"
   ]
  },
  {
   "cell_type": "code",
   "execution_count": 40,
   "metadata": {},
   "outputs": [
    {
     "data": {
      "text/plain": [
       "[439.3220338983051,\n",
       " 336.6233766233766,\n",
       " 373.0232558139535,\n",
       " 471.61290322580646,\n",
       " 415.6756756756757,\n",
       " 427.22222222222223,\n",
       " 430.2739726027398,\n",
       " 359.5081967213115,\n",
       " 466.59574468085106,\n",
       " 481.978021978022]"
      ]
     },
     "execution_count": 40,
     "metadata": {},
     "output_type": "execute_result"
    }
   ],
   "source": [
    "speed = mph.select(\"Mph\").rdd.flatMap(lambda x: x)\n",
    "speed = speed.collect()\n",
    "speed[0:10]"
   ]
  },
  {
   "cell_type": "markdown",
   "metadata": {},
   "source": [
    "## Sampling Data\n",
    "\n",
    "When I tried to plot this data, it took a very long time to draw. This is because... well, how many unique values are there for each variable? Lets see."
   ]
  },
  {
   "cell_type": "code",
   "execution_count": 41,
   "metadata": {},
   "outputs": [
    {
     "name": "stdout",
     "output_type": "stream",
     "text": [
      "Total distances: 5,714,008\n",
      "Total speeds: 5,714,008\n"
     ]
    }
   ],
   "source": [
    "print(\"Total distances: {:,}\".format(len(distance)))\n",
    "print(\"Total speeds: {:,}\".format(len(speed)))"
   ]
  },
  {
   "cell_type": "markdown",
   "metadata": {},
   "source": [
    "It is hard to plot 5.7 million dots on a scatterplot that will fit on a computer screen. So lets sample our data. We can use PySpark `DataFrame's` sample method. Lets take a 0.1% random sample without replacement, which will leave us with 5,687 or so data points - something we can more easily manage."
   ]
  },
  {
   "cell_type": "code",
   "execution_count": 42,
   "metadata": {},
   "outputs": [
    {
     "data": {
      "text/plain": [
       "5865"
      ]
     },
     "execution_count": 42,
     "metadata": {},
     "output_type": "execute_result"
    }
   ],
   "source": [
    "sample = mph.sample(False, 0.001)\n",
    "sample.count()"
   ]
  },
  {
   "cell_type": "markdown",
   "metadata": {},
   "source": [
    "Note that we need to sample __once__ and then split the datasets out - otherwise the data for a single observation will be scrambled across variables. We don't want that! All our scatterplots would show no relationships at all."
   ]
  },
  {
   "cell_type": "code",
   "execution_count": 43,
   "metadata": {},
   "outputs": [
    {
     "name": "stdout",
     "output_type": "stream",
     "text": [
      "5,865 x 5,865 records!\n"
     ]
    }
   ],
   "source": [
    "speed = sample.select(\"Mph\").rdd.flatMap(lambda x: x).collect()\n",
    "distance = sample.select(\"Distance\").rdd.flatMap(lambda x: x).collect()\n",
    "print(\"{:,} x {:,} records!\".format(\n",
    "    len(speed),\n",
    "    len(distance)\n",
    "))"
   ]
  },
  {
   "cell_type": "markdown",
   "metadata": {},
   "source": [
    "### Fun with `matplotlib.pyplot.scatter`\n",
    "\n",
    "Now we feed the `scatter` API `distance` as `x` and `speed` as `y`, giving it a title and x and y axes. Note that we also specify a size in inches via the `figure.figsize` `rcParam`."
   ]
  },
  {
   "cell_type": "code",
   "execution_count": 44,
   "metadata": {},
   "outputs": [
    {
     "data": {
      "image/png": "[encoded data removed]",
      "text/plain": [
       "<Figure size 1296x864 with 1 Axes>"
      ]
     },
     "metadata": {
      "needs_background": "light"
     },
     "output_type": "display_data"
    }
   ],
   "source": [
    "%matplotlib inline\n",
    "\n",
    "import numpy as np\n",
    "import matplotlib.pyplot as plt\n",
    "\n",
    "plt.rcParams[\"figure.figsize\"] = (18,12)\n",
    "\n",
    "plt.scatter(\n",
    "    distance, \n",
    "    speed, \n",
    "    alpha=0.5\n",
    ")\n",
    "plt.title(\"Distance x Speed\")\n",
    "plt.xlabel(\"Distance\")\n",
    "plt.ylabel(\"Speed\")\n",
    "plt.show()"
   ]
  },
  {
   "cell_type": "markdown",
   "metadata": {},
   "source": [
    "### Interpreting Our Scatterplot\n",
    "\n",
    "We can see pretty clearly that as distance increases, average speed across that distance increases rapidly and then levels off as the distance increases.\n",
    "\n",
    "## Exercises\n",
    "\n",
    "1. Query the `on_time_dataframe` to focus on two numeric fields. \n",
    "2. Plot a histogram of one of these fields\n",
    "3. Plot a scatterplot of both of these fields\n",
    "\n",
    "# Predicting Speed Given Distance\n",
    "\n",
    "It is often the case that once we characterize a distribution, we want to create a function to predict one variable given the other. Lets take this example further by fitting a polynomial regression to describe our data. We use `sklearn.pipeline.Pipeline` to chain a `sklearn.preprocessing.PolynomialFeatures` to a `sklearn.linear_model.LinearRegression`. Other than that, we simply define x and y, and fit a model to those values. Then we finally compute a cross value score, to see the model's performance. We'll see this pattern again when we use large data tools in Spark MLlib."
   ]
  },
  {
   "cell_type": "code",
   "execution_count": 45,
   "metadata": {},
   "outputs": [
    {
     "name": "stderr",
     "output_type": "stream",
     "text": [
      "/home/vagrant/anaconda/lib/python3.6/site-packages/sklearn/model_selection/_split.py:1978: FutureWarning: The default value of cv will change from 3 to 5 in version 0.22. Specify it explicitly to silence this warning.\n",
      "  warnings.warn(CV_WARNING, FutureWarning)\n"
     ]
    },
    {
     "data": {
      "text/plain": [
       "array([0.62454561, 0.70210257, 0.6544795 ])"
      ]
     },
     "execution_count": 45,
     "metadata": {},
     "output_type": "execute_result"
    }
   ],
   "source": [
    "from sklearn.model_selection import train_test_split\n",
    "from sklearn.preprocessing import PolynomialFeatures\n",
    "from sklearn.linear_model import LinearRegression\n",
    "from sklearn.pipeline import Pipeline\n",
    "from sklearn.model_selection import cross_val_score\n",
    "import numpy as np\n",
    "\n",
    "x = np.array(distance)\n",
    "y = np.array(speed)\n",
    "x_test = np.arange(0, 5000, 100)\n",
    "\n",
    "model = Pipeline([\n",
    "    ('poly', PolynomialFeatures(degree=3)),\n",
    "    ('linear', LinearRegression(fit_intercept=False))\n",
    "])\n",
    "model = model.fit(x[:, np.newaxis], y)\n",
    "model.named_steps['linear'].coef_\n",
    "y_out = model.predict(x_test.reshape(-1,1))\n",
    "\n",
    "cross_val_score(model, x.reshape(-1,1), y)"
   ]
  },
  {
   "cell_type": "markdown",
   "metadata": {},
   "source": [
    "## Visualizing Polynomial Fit\n",
    "\n",
    "Because we are running a polynomial regression, where we get to decide the degree of the polynomial. To help decide, lets plot a polynomial fit line to the data using `matplotlib`."
   ]
  },
  {
   "cell_type": "code",
   "execution_count": 46,
   "metadata": {},
   "outputs": [
    {
     "data": {
      "image/png": "[encoded data removed]",
      "text/plain": [
       "<Figure size 1296x864 with 1 Axes>"
      ]
     },
     "metadata": {
      "needs_background": "light"
     },
     "output_type": "display_data"
    }
   ],
   "source": [
    "%matplotlib inline\n",
    "\n",
    "import numpy as np\n",
    "import matplotlib.pyplot as plt\n",
    "\n",
    "plt.rcParams[\"figure.figsize\"] = (18,12)\n",
    "\n",
    "plt.scatter(\n",
    "    distance, \n",
    "    speed, \n",
    "    alpha=0.5\n",
    ")\n",
    "plt.plot(\n",
    "    x_test,\n",
    "    y_out, \n",
    "    color='orange', \n",
    "    linewidth=3\n",
    ")\n",
    "\n",
    "plt.title(\"Distance x Speed\")\n",
    "plt.xlabel(\"Distance\")\n",
    "plt.ylabel(\"Speed\")\n",
    "plt.show()"
   ]
  },
  {
   "cell_type": "markdown",
   "metadata": {},
   "source": [
    "# Joining Data in PySpark\n",
    "\n",
    "Next we're going to learn how to join between datasets using PySpark. We're going to pick up from an example we're going to work in chapter 6, and explore it more deeply. To begin with, we will prepare a list of `TailNum` (tail numbers) from the FAA flight records. These uniquely identify each airplane from each flight.\n",
    "\n",
    "### Unique Tail Numbers"
   ]
  },
  {
   "cell_type": "code",
   "execution_count": 47,
   "metadata": {},
   "outputs": [
    {
     "name": "stdout",
     "output_type": "stream",
     "text": [
      "+-------+\n",
      "|TailNum|\n",
      "+-------+\n",
      "| N396AA|\n",
      "| N3CWAA|\n",
      "| N499AA|\n",
      "| N4YUAA|\n",
      "| N567AA|\n",
      "| N442AS|\n",
      "+-------+\n",
      "only showing top 6 rows\n",
      "\n"
     ]
    }
   ],
   "source": [
    "tail_numbers = on_time_dataframe.select(\"TailNum\").distinct()\n",
    "tail_numbers.show(6)"
   ]
  },
  {
   "cell_type": "markdown",
   "metadata": {},
   "source": [
    "### FAA Airplane Records\n",
    "\n",
    "We will trim the FAA records down to just the `TailNum`, `Model` and `Engine_Model`. Note that we go ahead and rename the `TailNum` field to `FAATailNum` using the `pyspark.sql.functions.alias()` method. This avoids having two fields referenced by the same name once we perform our joins."
   ]
  },
  {
   "cell_type": "code",
   "execution_count": 48,
   "metadata": {},
   "outputs": [
    {
     "name": "stdout",
     "output_type": "stream",
     "text": [
      "+----------+-----------+------------+\n",
      "|FAATailNum|      Model|Engine_Model|\n",
      "+----------+-----------+------------+\n",
      "|    N933EV|CL-600-2B19| CF34 SERIES|\n",
      "|    N917WN|    737-7H4|  CFM56-7B24|\n",
      "|    N438WN|    737-7H4|CFM56 SERIES|\n",
      "|    N283VA|   A320-214| CFM56-5B4/3|\n",
      "|    N473UA|   A320-232| AL-25SERIES|\n",
      "|    N637JB|   A320-232|    V2527-A5|\n",
      "+----------+-----------+------------+\n",
      "only showing top 6 rows\n",
      "\n"
     ]
    }
   ],
   "source": [
    "faa_tail_number_inquiry = spark.read.json('../data/faa_tail_number_inquiry.jsonl')\n",
    "airplane_records = faa_tail_number_inquiry.select(\n",
    "    faa_tail_number_inquiry.TailNum.alias(\"FAATailNum\"), \n",
    "    \"Model\",\n",
    "    \"Engine_Model\"\n",
    ")\n",
    "airplane_records.show(6)"
   ]
  },
  {
   "cell_type": "markdown",
   "metadata": {},
   "source": [
    "## Inner Joins\n",
    "\n",
    "You may be familiar with an inner join from SQL. An inner join joins two datasets based on the presence of a key from one dataset in the other. Records which don't have a key that appears in the other table do not appear in the final output."
   ]
  },
  {
   "cell_type": "code",
   "execution_count": 49,
   "metadata": {},
   "outputs": [
    {
     "name": "stdout",
     "output_type": "stream",
     "text": [
      "FAA tail numbers: 4,898\n",
      "Airplane records: 3,988\n",
      "Joined records:   3,988\n"
     ]
    }
   ],
   "source": [
    "# INNER JOIN\n",
    "print(\n",
    "    \"FAA tail numbers: {:,}\".format(\n",
    "        tail_numbers.count()\n",
    "    )\n",
    ")\n",
    "print(\n",
    "    \"Airplane records: {:,}\".format(\n",
    "        airplane_records.count()\n",
    "    )\n",
    ")\n",
    "\n",
    "inner_joined = tail_numbers.join(\n",
    "    airplane_records, \n",
    "    tail_numbers.TailNum == airplane_records.FAATailNum, \n",
    "    'inner'\n",
    ")\n",
    "\n",
    "print(\n",
    "    \"Joined records:   {:,}\".format(\n",
    "        inner_joined.count()\n",
    "    )\n",
    ")"
   ]
  },
  {
   "cell_type": "markdown",
   "metadata": {},
   "source": [
    "### Inner Join Results\n",
    "\n",
    "Note that there are as many records in the output as there were in the FAA Airplane dataset - indicating that there was a representative of every tail number from that dataset in the on-time performance flight records. Lets take a look at the records themselves."
   ]
  },
  {
   "cell_type": "code",
   "execution_count": 50,
   "metadata": {},
   "outputs": [
    {
     "name": "stdout",
     "output_type": "stream",
     "text": [
      "+-------+----------+--------------+------------+\n",
      "|TailNum|FAATailNum|         Model|Engine_Model|\n",
      "+-------+----------+--------------+------------+\n",
      "| N396AA|    N396AA|          B300|    PT6A SER|\n",
      "| N499AA|    N499AA|DC-9-82(MD-82)| JT8D SERIES|\n",
      "| N442AS|    N442AS|     737-990ER| CFM56-7B27E|\n",
      "| N369NB|    N369NB|      A319-114|CFM56 SERIES|\n",
      "| N388DA|    N388DA|       737-832|CFM56 SERIES|\n",
      "|  N6700|     N6700|       757-232|      PW2037|\n",
      "+-------+----------+--------------+------------+\n",
      "only showing top 6 rows\n",
      "\n"
     ]
    }
   ],
   "source": [
    "inner_joined.show(6)"
   ]
  },
  {
   "cell_type": "markdown",
   "metadata": {},
   "source": [
    "Note how convenient it is that we renamed one of the keys `FAATailNum`. If we hadn't, we'd have two columns with the same name now and would have trouble referring to one or the other."
   ]
  },
  {
   "cell_type": "markdown",
   "metadata": {},
   "source": [
    "## Left Outer Join\n",
    "\n",
    "Another type of join is the left outer join. It ensures that one record will remain in the output from the left side of the join no matter what. If a match on the join keys is found, the fields for the record on the right will be filled. If a match is not found, they will be empty. \n",
    "\n",
    "Lets look at how this works with our two datasets."
   ]
  },
  {
   "cell_type": "code",
   "execution_count": 51,
   "metadata": {},
   "outputs": [
    {
     "name": "stdout",
     "output_type": "stream",
     "text": [
      "FAA tail numbers: 4,898\n",
      "Airplane records: 3,988\n",
      "Joined records:   4,898\n"
     ]
    }
   ],
   "source": [
    "# INNER JOIN\n",
    "print(\n",
    "    \"FAA tail numbers: {:,}\".format(\n",
    "        tail_numbers.count()\n",
    "    )\n",
    ")\n",
    "print(\n",
    "    \"Airplane records: {:,}\".format(\n",
    "        airplane_records.count()\n",
    "    )\n",
    ")\n",
    "\n",
    "left_outer_joined = tail_numbers.join(\n",
    "    airplane_records, \n",
    "    tail_numbers.TailNum == airplane_records.FAATailNum, \n",
    "    'left_outer'\n",
    ")\n",
    "\n",
    "print(\n",
    "    \"Joined records:   {:,}\".format(\n",
    "        left_outer_joined.count()\n",
    "    )\n",
    ")"
   ]
  },
  {
   "cell_type": "markdown",
   "metadata": {},
   "source": [
    "## Left Outer Join Result\n",
    "\n",
    "Note that there were 4,898 records on the left side of our join and there are the same number on the output of our join. Lets take a look at what both matched and unmatched records look like:"
   ]
  },
  {
   "cell_type": "code",
   "execution_count": 52,
   "metadata": {},
   "outputs": [
    {
     "name": "stdout",
     "output_type": "stream",
     "text": [
      "+-------+----------+--------------+------------+\n",
      "|TailNum|FAATailNum|         Model|Engine_Model|\n",
      "+-------+----------+--------------+------------+\n",
      "| N396AA|    N396AA|          B300|    PT6A SER|\n",
      "| N3CWAA|      null|          null|        null|\n",
      "| N499AA|    N499AA|DC-9-82(MD-82)| JT8D SERIES|\n",
      "| N4YUAA|      null|          null|        null|\n",
      "| N567AA|      null|          null|        null|\n",
      "| N442AS|    N442AS|     737-990ER| CFM56-7B27E|\n",
      "+-------+----------+--------------+------------+\n",
      "only showing top 6 rows\n",
      "\n"
     ]
    }
   ],
   "source": [
    "left_outer_joined.show(6)"
   ]
  },
  {
   "cell_type": "markdown",
   "metadata": {},
   "source": [
    "Note that some records have fields filled out, and some don't.\n",
    "\n",
    "## Right Outer Join\n",
    "\n",
    "Another type of join is the right outer join. This works the opposite of a left outer join. In this case, the output will preserve a record for each and every record on the right side of the join. Use the `right_outer` join type to perform this kind of join.\n",
    "\n",
    "## Exercises\n",
    "\n",
    "1. Go back and perform a right outer join on the preceding two datasets. Is the `distinct()` call on the FAA on-time performance records still needed? Why or why not?\n"
   ]
  },
  {
   "cell_type": "markdown",
   "metadata": {},
   "source": [
    "# Using `RDDs` and Map/Reduce to Prepare a Complex Record"
   ]
  },
  {
   "cell_type": "code",
   "execution_count": 53,
   "metadata": {},
   "outputs": [
    {
     "data": {
      "text/plain": [
       "{'TailNum': 'N382DA',\n",
       " 'Flights': [('DL', '2015-01-02', '1664', 'MSP', 'DCA'),\n",
       "  ('DL', '2015-01-02', '1968', 'LAX', 'MSP'),\n",
       "  ('DL', '2015-01-03', '1303', 'SLC', 'BOS'),\n",
       "  ('DL', '2015-01-03', '1374', 'OAK', 'SLC'),\n",
       "  ('DL', '2015-01-03', '1374', 'SLC', 'OAK'),\n",
       "  ('DL', '2015-01-03', '1944', 'DCA', 'SLC'),\n",
       "  ('DL', '2015-01-03', '2071', 'SLC', 'PHX'),\n",
       "  ('DL', '2015-01-03', '966', 'PHX', 'SLC'),\n",
       "  ('DL', '2015-01-04', '1207', 'DTW', 'SLC'),\n",
       "  ('DL', '2015-01-04', '2079', 'BOS', 'DTW'),\n",
       "  ('DL', '2015-01-05', '2324', 'SLC', 'ATL'),\n",
       "  ('DL', '2015-01-05', '2352', 'ATL', 'JFK'),\n",
       "  ('DL', '2015-01-06', '332', 'SJU', 'JFK'),\n",
       "  ('DL', '2015-01-06', '425', 'JFK', 'SJU'),\n",
       "  ('DL', '2015-01-08', '421', 'JFK', 'ATL'),\n",
       "  ('DL', '2015-01-10', '2264', 'LAX', 'MEM'),\n",
       "  ('DL', '2015-01-11', '2020', 'MEM', 'LAX'),\n",
       "  ('DL', '2015-01-11', '2534', 'LAX', 'BOS'),\n",
       "  ('DL', '2015-01-11', '2549', 'BOS', 'MSP'),\n",
       "  ('DL', '2015-01-12', '2193', 'MSP', 'SEA'),\n",
       "  ('DL', '2015-01-12', '2424', 'SEA', 'DTW'),\n",
       "  ('DL', '2015-01-12', '921', 'MKE', 'MSP'),\n",
       "  ('DL', '2015-01-12', '921', 'MSP', 'MKE'),\n",
       "  ('DL', '2015-01-13', '1511', 'DTW', 'DEN'),\n",
       "  ('DL', '2015-01-13', '410', 'DEN', 'JFK'),\n",
       "  ('DL', '2015-01-13', '433', 'JFK', 'DEN'),\n",
       "  ('DL', '2015-01-14', '1610', 'DEN', 'DTW'),\n",
       "  ('DL', '2015-01-14', '2335', 'DTW', 'SLC'),\n",
       "  ('DL', '2015-01-14', '952', 'SLC', 'DFW'),\n",
       "  ('DL', '2015-01-15', '1657', 'SLC', 'LAS'),\n",
       "  ('DL', '2015-01-15', '2056', 'DFW', 'SLC'),\n",
       "  ('DL', '2015-01-15', '466', 'SLC', 'JFK'),\n",
       "  ('DL', '2015-01-15', '490', 'JFK', 'SLC'),\n",
       "  ('DL', '2015-01-16', '1552', 'LAS', 'LAX'),\n",
       "  ('DL', '2015-01-16', '1577', 'LAX', 'MSY'),\n",
       "  ('DL', '2015-01-16', '1603', 'MSY', 'MSP'),\n",
       "  ('DL', '2015-01-16', '2336', 'MSP', 'MKE'),\n",
       "  ('DL', '2015-01-17', '1071', 'MKE', 'MSP'),\n",
       "  ('DL', '2015-01-18', '2320', 'JFK', 'SJU'),\n",
       "  ('DL', '2015-01-18', '2576', 'JFK', 'SJU'),\n",
       "  ('DL', '2015-01-18', '42', 'SJU', 'JFK'),\n",
       "  ('DL', '2015-01-19', '326', 'SJU', 'JFK'),\n",
       "  ('DL', '2015-01-19', '332', 'SJU', 'JFK'),\n",
       "  ('DL', '2015-01-19', '425', 'JFK', 'SJU'),\n",
       "  ('DL', '2015-01-20', '2658', 'LAS', 'JFK'),\n",
       "  ('DL', '2015-01-20', '480', 'JFK', 'LAS'),\n",
       "  ('DL', '2015-01-22', '1728', 'LAS', 'JFK'),\n",
       "  ('DL', '2015-01-22', '1883', 'SLC', 'LAS'),\n",
       "  ('DL', '2015-01-22', '436', 'JFK', 'SLC'),\n",
       "  ('DL', '2015-01-23', '2623', 'JFK', 'SAN'),\n",
       "  ('DL', '2015-01-24', '2066', 'SLC', 'MCO'),\n",
       "  ('DL', '2015-01-24', '978', 'SAN', 'SLC'),\n",
       "  ('DL', '2015-01-25', '1574', 'MCO', 'MSP'),\n",
       "  ('DL', '2015-01-25', '2193', 'MSP', 'SEA'),\n",
       "  ('DL', '2015-01-25', '2424', 'SEA', 'DTW'),\n",
       "  ('DL', '2015-01-26', '1511', 'DTW', 'DEN'),\n",
       "  ('DL', '2015-01-26', '2160', 'JFK', 'DEN'),\n",
       "  ('DL', '2015-01-26', '410', 'DEN', 'JFK'),\n",
       "  ('DL', '2015-01-27', '1557', 'SLC', 'SEA'),\n",
       "  ('DL', '2015-01-27', '1610', 'DEN', 'DTW'),\n",
       "  ('DL', '2015-01-27', '2335', 'DTW', 'SLC'),\n",
       "  ('DL', '2015-01-28', '2340', 'SEA', 'DTW'),\n",
       "  ('DL', '2015-01-28', '582', 'DTW', 'BOS'),\n",
       "  ('DL', '2015-01-29', '1168', 'LAX', 'MIA'),\n",
       "  ('DL', '2015-01-29', '1325', 'LAX', 'MSY'),\n",
       "  ('DL', '2015-01-29', '1577', 'MSY', 'LAX'),\n",
       "  ('DL', '2015-01-29', '2531', 'BOS', 'LAX'),\n",
       "  ('DL', '2015-01-30', '1169', 'MIA', 'LAX'),\n",
       "  ('DL', '2015-01-30', '1566', 'LAX', 'RDU'),\n",
       "  ('DL', '2015-02-01', '1097', 'RDU', 'LAX'),\n",
       "  ('DL', '2015-02-01', '1566', 'LAX', 'RDU'),\n",
       "  ('DL', '2015-02-02', '1097', 'RDU', 'LAX'),\n",
       "  ('DL', '2015-02-02', '1882', 'SLC', 'DTW'),\n",
       "  ('DL', '2015-02-02', '2170', 'LAX', 'SLC'),\n",
       "  ('DL', '2015-02-03', '1542', 'SEA', 'JFK'),\n",
       "  ('DL', '2015-02-03', '2188', 'ANC', 'SEA'),\n",
       "  ('DL', '2015-02-03', '2436', 'DTW', 'SEA'),\n",
       "  ('DL', '2015-02-03', '2436', 'SEA', 'ANC'),\n",
       "  ('DL', '2015-02-06', '2658', 'LAS', 'JFK'),\n",
       "  ('DL', '2015-02-06', '420', 'JFK', 'LAS'),\n",
       "  ('DL', '2015-02-08', '1740', 'LAS', 'SLC'),\n",
       "  ('DL', '2015-02-08', '2360', 'SLC', 'DCA'),\n",
       "  ('DL', '2015-02-08', '404', 'JFK', 'LAS'),\n",
       "  ('DL', '2015-02-09', '872', 'DCA', 'ATL'),\n",
       "  ('DL', '2015-02-10', '776', 'ATL', 'SRQ'),\n",
       "  ('DL', '2015-02-11', '1684', 'ATL', 'SJC'),\n",
       "  ('DL', '2015-02-11', '1684', 'SJC', 'ATL'),\n",
       "  ('DL', '2015-02-11', '2561', 'SRQ', 'ATL'),\n",
       "  ('DL', '2015-02-12', '1123', 'ATL', 'SLC'),\n",
       "  ('DL', '2015-02-12', '1830', 'SLC', 'JFK'),\n",
       "  ('DL', '2015-02-12', '2457', 'ATL', 'BDL'),\n",
       "  ('DL', '2015-02-12', '2457', 'BDL', 'ATL'),\n",
       "  ('DL', '2015-02-14', '482', 'JFK', 'LAS'),\n",
       "  ('DL', '2015-02-15', '1795', 'LAS', 'JFK'),\n",
       "  ('DL', '2015-02-16', '1552', 'LAS', 'LAX'),\n",
       "  ('DL', '2015-02-16', '2215', 'MSP', 'FSD'),\n",
       "  ('DL', '2015-02-17', '896', 'FSD', 'MSP'),\n",
       "  ('DL', '2015-02-18', '1760', 'SEA', 'ANC'),\n",
       "  ('DL', '2015-02-18', '2253', 'MSP', 'SEA'),\n",
       "  ('DL', '2015-02-19', '142', 'ANC', 'SEA'),\n",
       "  ('DL', '2015-02-19', '1473', 'SEA', 'JFK'),\n",
       "  ('DL', '2015-02-19', '492', 'JFK', 'SJU'),\n",
       "  ('DL', '2015-02-20', '326', 'SJU', 'JFK'),\n",
       "  ('DL', '2015-02-20', '436', 'JFK', 'LAS'),\n",
       "  ('DL', '2015-02-21', '1795', 'LAS', 'JFK'),\n",
       "  ('DL', '2015-02-21', '348', 'SJU', 'JFK'),\n",
       "  ('DL', '2015-02-21', '409', 'JFK', 'SJU'),\n",
       "  ('DL', '2015-02-22', '332', 'SJU', 'JFK'),\n",
       "  ('DL', '2015-02-22', '465', 'JFK', 'SJU'),\n",
       "  ('DL', '2015-02-25', '2048', 'PDX', 'JFK'),\n",
       "  ('DL', '2015-02-25', '498', 'JFK', 'PDX'),\n",
       "  ('DL', '2015-02-26', '1684', 'ATL', 'SJC'),\n",
       "  ('DL', '2015-02-26', '1684', 'SJC', 'ATL'),\n",
       "  ('DL', '2015-02-27', '503', 'ATL', 'PDX'),\n",
       "  ('DL', '2015-02-27', '503', 'PDX', 'ATL'),\n",
       "  ('DL', '2015-02-28', '1709', 'ATL', 'BNA'),\n",
       "  ('DL', '2015-03-01', '1341', 'ATL', 'GSP'),\n",
       "  ('DL', '2015-03-01', '1341', 'GSP', 'ATL'),\n",
       "  ('DL', '2015-03-01', '2357', 'JFK', 'ATL'),\n",
       "  ('DL', '2015-03-01', '2589', 'BNA', 'ATL'),\n",
       "  ('DL', '2015-03-01', '478', 'ATL', 'JFK'),\n",
       "  ('DL', '2015-03-02', '1684', 'ATL', 'SJC'),\n",
       "  ('DL', '2015-03-02', '1684', 'SJC', 'ATL'),\n",
       "  ('DL', '2015-03-02', '2172', 'ATL', 'TPA'),\n",
       "  ('DL', '2015-03-02', '2172', 'TPA', 'ATL'),\n",
       "  ('DL', '2015-03-03', '1668', 'LAX', 'MSP'),\n",
       "  ('DL', '2015-03-03', '2203', 'ATL', 'LAS'),\n",
       "  ('DL', '2015-03-03', '2215', 'MSP', 'FSD'),\n",
       "  ('DL', '2015-03-03', '2565', 'LAS', 'SLC'),\n",
       "  ('DL', '2015-03-03', '637', 'SLC', 'LAX'),\n",
       "  ('DL', '2015-03-04', '896', 'FSD', 'MSP'),\n",
       "  ('DL', '2015-03-05', '1287', 'DTW', 'BNA'),\n",
       "  ('DL', '2015-03-05', '1959', 'DTW', 'TPA'),\n",
       "  ('DL', '2015-03-05', '1959', 'TPA', 'DTW'),\n",
       "  ('DL', '2015-03-05', '2268', 'LAX', 'SLC'),\n",
       "  ('DL', '2015-03-05', '2572', 'BNA', 'LAX'),\n",
       "  ('DL', '2015-03-05', '971', 'SLC', 'MCO'),\n",
       "  ('DL', '2015-03-06', '1683', 'SLC', 'LAS'),\n",
       "  ('DL', '2015-03-06', '2540', 'LAS', 'JFK'),\n",
       "  ('DL', '2015-03-06', '2610', 'MCO', 'SLC'),\n",
       "  ('DL', '2015-03-07', '1949', 'ATL', 'MIA'),\n",
       "  ('DL', '2015-03-08', '503', 'ATL', 'PDX'),\n",
       "  ('DL', '2015-03-08', '700', 'PDX', 'ATL'),\n",
       "  ('DL', '2015-03-08', '891', 'MIA', 'ATL'),\n",
       "  ('DL', '2015-03-09', '1755', 'ATL', 'LAS'),\n",
       "  ('DL', '2015-03-09', '2554', 'LAS', 'JFK'),\n",
       "  ('DL', '2015-03-10', '1979', 'LAS', 'DTW'),\n",
       "  ('DL', '2015-03-10', '2474', 'JFK', 'SJU'),\n",
       "  ('DL', '2015-03-10', '409', 'JFK', 'LAS'),\n",
       "  ('DL', '2015-03-10', '42', 'SJU', 'JFK'),\n",
       "  ('DL', '2015-03-11', '1338', 'ATL', 'BNA'),\n",
       "  ('DL', '2015-03-11', '1640', 'DTW', 'ATL'),\n",
       "  ('DL', '2015-03-12', '1324', 'BNA', 'ATL'),\n",
       "  ('DL', '2015-03-13', '1684', 'ATL', 'SJC'),\n",
       "  ('DL', '2015-03-13', '1684', 'SJC', 'ATL'),\n",
       "  ('DL', '2015-03-14', '1268', 'ATL', 'LAS'),\n",
       "  ('DL', '2015-03-14', '1723', 'SLC', 'BIL'),\n",
       "  ('DL', '2015-03-14', '1740', 'LAS', 'SLC'),\n",
       "  ('DL', '2015-03-15', '1635', 'BIL', 'SLC'),\n",
       "  ('DL', '2015-03-15', '1684', 'ATL', 'SJC'),\n",
       "  ('DL', '2015-03-15', '1684', 'SJC', 'ATL'),\n",
       "  ('DL', '2015-03-15', '1857', 'SLC', 'SEA'),\n",
       "  ('DL', '2015-03-15', '2485', 'SEA', 'ATL'),\n",
       "  ('DL', '2015-03-16', '1837', 'ATL', 'AUS'),\n",
       "  ('DL', '2015-03-17', '1555', 'ATL', 'LAX'),\n",
       "  ('DL', '2015-03-17', '1557', 'SLC', 'SEA'),\n",
       "  ('DL', '2015-03-17', '1820', 'LAX', 'SEA'),\n",
       "  ('DL', '2015-03-17', '1984', 'AUS', 'ATL'),\n",
       "  ('DL', '2015-03-17', '2150', 'SEA', 'SLC'),\n",
       "  ('DL', '2015-03-18', '1560', 'SEA', 'DTW'),\n",
       "  ('DL', '2015-03-19', '1055', 'LAX', 'CMH'),\n",
       "  ('DL', '2015-03-19', '2020', 'LAX', 'MEM'),\n",
       "  ('DL', '2015-03-19', '2020', 'MEM', 'LAX'),\n",
       "  ('DL', '2015-03-20', '1327', 'CMH', 'LAX'),\n",
       "  ('DL', '2015-03-20', '2592', 'LAX', 'MSY'),\n",
       "  ('DL', '2015-03-21', '1325', 'MSY', 'LAX'),\n",
       "  ('DL', '2015-03-21', '2534', 'LAX', 'BOS'),\n",
       "  ('DL', '2015-03-22', '1659', 'BOS', 'LAX'),\n",
       "  ('DL', '2015-03-22', '729', 'LAX', 'MSY'),\n",
       "  ('DL', '2015-03-22', '729', 'MSY', 'LAX'),\n",
       "  ('DL', '2015-03-22', '877', 'LAX', 'IND'),\n",
       "  ('DL', '2015-03-23', '1550', 'IND', 'LAX'),\n",
       "  ('DL', '2015-03-23', '2592', 'LAX', 'MSY'),\n",
       "  ('DL', '2015-03-24', '1325', 'MSY', 'LAX'),\n",
       "  ('DL', '2015-03-24', '2341', 'MSP', 'OMA'),\n",
       "  ('DL', '2015-03-24', '2534', 'LAX', 'BOS'),\n",
       "  ('DL', '2015-03-24', '2549', 'BOS', 'MSP'),\n",
       "  ('DL', '2015-03-25', '1620', 'OMA', 'MSP'),\n",
       "  ('DL', '2015-03-25', '2595', 'DTW', 'RDU'),\n",
       "  ('DL', '2015-03-26', '1097', 'RDU', 'LAX'),\n",
       "  ('DL', '2015-03-26', '1979', 'LAX', 'RDU'),\n",
       "  ('DL', '2015-03-27', '1055', 'LAX', 'CMH'),\n",
       "  ('DL', '2015-03-27', '1137', 'RDU', 'ATL'),\n",
       "  ('DL', '2015-03-27', '1545', 'SEA', 'LAX'),\n",
       "  ('DL', '2015-03-27', '1555', 'ATL', 'LAX'),\n",
       "  ('DL', '2015-03-27', '1820', 'LAX', 'SEA'),\n",
       "  ('DL', '2015-03-28', '1327', 'CMH', 'LAX'),\n",
       "  ('DL', '2015-03-28', '2592', 'LAX', 'MSY'),\n",
       "  ('DL', '2015-03-29', '1325', 'MSY', 'LAX'),\n",
       "  ('DL', '2015-03-29', '2341', 'MSP', 'OMA'),\n",
       "  ('DL', '2015-03-29', '2534', 'LAX', 'BOS'),\n",
       "  ('DL', '2015-03-29', '2549', 'BOS', 'MSP'),\n",
       "  ('DL', '2015-03-30', '1620', 'OMA', 'MSP'),\n",
       "  ('DL', '2015-03-31', '1640', 'DTW', 'ATL'),\n",
       "  ('DL', '2015-04-01', '1949', 'ATL', 'MIA'),\n",
       "  ('DL', '2015-04-02', '891', 'MIA', 'ATL'),\n",
       "  ('DL', '2015-04-03', '420', 'JFK', 'DEN'),\n",
       "  ('DL', '2015-04-04', '1610', 'DEN', 'DTW'),\n",
       "  ('DL', '2015-04-05', '1683', 'SLC', 'LAS'),\n",
       "  ('DL', '2015-04-05', '1740', 'LAS', 'SLC'),\n",
       "  ('DL', '2015-04-05', '1809', 'DTW', 'SLC'),\n",
       "  ('DL', '2015-04-05', '2360', 'SLC', 'DCA'),\n",
       "  ('DL', '2015-04-06', '1264', 'SLC', 'JFK'),\n",
       "  ('DL', '2015-04-06', '2332', 'LAX', 'SLC'),\n",
       "  ('DL', '2015-04-06', '2359', 'DCA', 'SLC'),\n",
       "  ('DL', '2015-04-06', '2378', 'SLC', 'SAN'),\n",
       "  ('DL', '2015-04-06', '637', 'SLC', 'LAX'),\n",
       "  ('DL', '2015-04-06', '89', 'SAN', 'SLC'),\n",
       "  ('DL', '2015-04-07', '2643', 'LAX', 'LAS'),\n",
       "  ('DL', '2015-04-07', '498', 'JFK', 'ATL'),\n",
       "  ('DL', '2015-04-08', '2374', 'LAS', 'ATL'),\n",
       "  ('DL', '2015-04-08', '889', 'ATL', 'RDU'),\n",
       "  ('DL', '2015-04-09', '1736', 'ATL', 'CMH'),\n",
       "  ('DL', '2015-04-09', '2250', 'RDU', 'ATL'),\n",
       "  ('DL', '2015-04-10', '1783', 'SLC', 'LAS'),\n",
       "  ('DL', '2015-04-10', '2214', 'LAS', 'ATL'),\n",
       "  ('DL', '2015-04-10', '2419', 'CMH', 'ATL'),\n",
       "  ('DL', '2015-04-10', '983', 'ATL', 'SLC'),\n",
       "  ('DL', '2015-04-11', '2559', 'ATL', 'PHX'),\n",
       "  ('DL', '2015-04-11', '779', 'PHX', 'ATL'),\n",
       "  ('DL', '2015-04-12', '796', 'ATL', 'IND'),\n",
       "  ('DL', '2015-04-12', '796', 'IND', 'ATL'),\n",
       "  ('DL', '2015-04-12', '881', 'ATL', 'AUS'),\n",
       "  ('DL', '2015-04-12', '881', 'AUS', 'ATL'),\n",
       "  ('DL', '2015-04-13', '1077', 'ATL', 'RDU'),\n",
       "  ('DL', '2015-04-13', '1077', 'RDU', 'ATL'),\n",
       "  ('DL', '2015-04-13', '753', 'ATL', 'DTW'),\n",
       "  ('DL', '2015-04-14', '188', 'DTW', 'BOS'),\n",
       "  ('DL', '2015-04-14', '2051', 'DTW', 'RSW'),\n",
       "  ('DL', '2015-04-14', '2051', 'RSW', 'DTW'),\n",
       "  ('DL', '2015-04-14', '2549', 'BOS', 'MSP'),\n",
       "  ('DL', '2015-04-14', '653', 'MSP', 'LAX'),\n",
       "  ('DL', '2015-04-15', '1109', 'SEA', 'JFK'),\n",
       "  ('DL', '2015-04-15', '1352', 'LAX', 'SEA'),\n",
       "  ('DL', '2015-04-15', '2020', 'MEM', 'LAX'),\n",
       "  ('DL', '2015-04-15', '2264', 'LAX', 'MEM'),\n",
       "  ('DL', '2015-04-16', '2474', 'JFK', 'SJU'),\n",
       "  ('DL', '2015-04-16', '2634', 'JFK', 'DEN'),\n",
       "  ('DL', '2015-04-16', '499', 'SJU', 'JFK'),\n",
       "  ('DL', '2015-04-17', '1610', 'DEN', 'DTW'),\n",
       "  ('DL', '2015-04-17', '1847', 'SEA', 'ANC'),\n",
       "  ('DL', '2015-04-17', '281', 'DTW', 'SEA'),\n",
       "  ('DL', '2015-04-18', '822', 'ANC', 'SEA'),\n",
       "  ('DL', '2015-04-18', '822', 'SEA', 'DTW'),\n",
       "  ('DL', '2015-04-19', '1511', 'DTW', 'DEN'),\n",
       "  ('DL', '2015-04-19', '1934', 'SLC', 'BIL'),\n",
       "  ('DL', '2015-04-19', '2182', 'DEN', 'JFK'),\n",
       "  ('DL', '2015-04-19', '470', 'JFK', 'SLC'),\n",
       "  ('DL', '2015-04-20', '1471', 'DTW', 'AUS'),\n",
       "  ('DL', '2015-04-20', '1912', 'BIL', 'SLC'),\n",
       "  ('DL', '2015-04-20', '2312', 'JFK', 'DTW'),\n",
       "  ('DL', '2015-04-20', '466', 'SLC', 'JFK'),\n",
       "  ('DL', '2015-04-21', '1984', 'AUS', 'ATL'),\n",
       "  ('DL', '2015-04-22', '439', 'JFK', 'SAN'),\n",
       "  ('DL', '2015-04-23', '1211', 'SLC', 'LAX'),\n",
       "  ('DL', '2015-04-23', '1936', 'LAX', 'CVG'),\n",
       "  ('DL', '2015-04-23', '2404', 'SAN', 'JFK'),\n",
       "  ('DL', '2015-04-23', '460', 'JFK', 'SLC'),\n",
       "  ('DL', '2015-04-24', '2315', 'CVG', 'ATL'),\n",
       "  ('DL', '2015-04-24', '421', 'JFK', 'AUS'),\n",
       "  ('DL', '2015-04-25', '1972', 'AUS', 'JFK'),\n",
       "  ('DL', '2015-04-26', '1830', 'SLC', 'JFK'),\n",
       "  ('DL', '2015-04-26', '492', 'JFK', 'SLC'),\n",
       "  ('DL', '2015-04-26', '622', 'PDX', 'SLC'),\n",
       "  ('DL', '2015-04-26', '976', 'SLC', 'PDX'),\n",
       "  ('DL', '2015-04-28', '1077', 'ATL', 'RDU'),\n",
       "  ('DL', '2015-04-28', '1077', 'RDU', 'ATL'),\n",
       "  ('DL', '2015-04-29', '1165', 'ATL', 'CHS'),\n",
       "  ('DL', '2015-04-29', '1165', 'CHS', 'ATL'),\n",
       "  ('DL', '2015-04-29', '1684', 'ATL', 'SJC'),\n",
       "  ('DL', '2015-04-29', '1684', 'SJC', 'ATL'),\n",
       "  ('DL', '2015-04-30', '421', 'JFK', 'AUS'),\n",
       "  ('DL', '2015-05-01', '1302', 'ATL', 'SDF'),\n",
       "  ('DL', '2015-05-01', '1302', 'SDF', 'ATL'),\n",
       "  ('DL', '2015-05-01', '1713', 'ATL', 'RSW'),\n",
       "  ('DL', '2015-05-01', '1984', 'AUS', 'ATL'),\n",
       "  ('DL', '2015-05-01', '2524', 'ATL', 'VPS'),\n",
       "  ('DL', '2015-05-01', '2524', 'VPS', 'ATL'),\n",
       "  ('DL', '2015-05-02', '2199', 'RSW', 'DTW'),\n",
       "  ('DL', '2015-05-03', '1576', 'LAX', 'TPA'),\n",
       "  ('DL', '2015-05-03', '159', 'BOS', 'DTW'),\n",
       "  ('DL', '2015-05-03', '1621', 'DTW', 'TPA'),\n",
       "  ('DL', '2015-05-03', '2052', 'TPA', 'LAX'),\n",
       "  ('DL', '2015-05-03', '2523', 'DTW', 'BOS'),\n",
       "  ('DL', '2015-05-04', '1061', 'LAX', 'MCO'),\n",
       "  ('DL', '2015-05-04', '1061', 'MCO', 'LAX'),\n",
       "  ('DL', '2015-05-04', '1168', 'LAX', 'MIA'),\n",
       "  ('DL', '2015-05-04', '1819', 'TPA', 'LAX'),\n",
       "  ('DL', '2015-05-05', '1169', 'MIA', 'LAX'),\n",
       "  ('DL', '2015-05-05', '2345', 'LAX', 'CMH'),\n",
       "  ('DL', '2015-05-06', '2002', 'ATL', 'LAS'),\n",
       "  ('DL', '2015-05-06', '2583', 'CMH', 'ATL'),\n",
       "  ('DL', '2015-05-06', '766', 'LAS', 'DTW'),\n",
       "  ('DL', '2015-05-06', '891', 'DTW', 'LAS'),\n",
       "  ('DL', '2015-05-07', '2059', 'JFK', 'LAS'),\n",
       "  ('DL', '2015-05-07', '2155', 'LAS', 'JFK'),\n",
       "  ('DL', '2015-05-08', '1167', 'SLC', 'BZN'),\n",
       "  ('DL', '2015-05-08', '2140', 'LAS', 'SLC'),\n",
       "  ('DL', '2015-05-08', '2155', 'LAS', 'JFK'),\n",
       "  ('DL', '2015-05-08', '443', 'JFK', 'LAS'),\n",
       "  ('DL', '2015-05-09', '1467', 'LAS', 'DTW'),\n",
       "  ('DL', '2015-05-09', '2526', 'BZN', 'SLC'),\n",
       "  ('DL', '2015-05-09', '437', 'JFK', 'LAS'),\n",
       "  ('DL', '2015-05-09', '466', 'SLC', 'JFK'),\n",
       "  ('DL', '2015-05-10', '198', 'SEA', 'LAX'),\n",
       "  ('DL', '2015-05-10', '2592', 'LAX', 'MSY'),\n",
       "  ('DL', '2015-05-10', '281', 'DTW', 'SEA'),\n",
       "  ('DL', '2015-05-11', '1325', 'MSY', 'LAX'),\n",
       "  ('DL', '2015-05-11', '2215', 'MSP', 'FSD'),\n",
       "  ('DL', '2015-05-11', '2534', 'LAX', 'BOS'),\n",
       "  ('DL', '2015-05-11', '2549', 'BOS', 'MSP'),\n",
       "  ('DL', '2015-05-12', '1957', 'SLC', 'SEA'),\n",
       "  ('DL', '2015-05-12', '2004', 'LAX', 'SLC'),\n",
       "  ('DL', '2015-05-12', '2092', 'MSP', 'MSY'),\n",
       "  ('DL', '2015-05-12', '896', 'FSD', 'MSP'),\n",
       "  ('DL', '2015-05-12', '984', 'MSY', 'LAX'),\n",
       "  ('DL', '2015-05-13', '1168', 'LAX', 'MIA'),\n",
       "  ('DL', '2015-05-13', '129', 'SLC', 'SEA'),\n",
       "  ('DL', '2015-05-13', '1634', 'SEA', 'SLC'),\n",
       "  ('DL', '2015-05-13', '1877', 'SEA', 'LAX'),\n",
       "  ('DL', '2015-05-13', '2122', 'LAX', 'SLC'),\n",
       "  ('DL', '2015-05-13', '2170', 'SLC', 'LAX'),\n",
       "  ('DL', '2015-05-14', '1169', 'MIA', 'LAX'),\n",
       "  ('DL', '2015-05-14', '2345', 'LAX', 'CMH'),\n",
       "  ('DL', '2015-05-15', '2583', 'CMH', 'ATL'),\n",
       "  ('DL', '2015-05-16', '1557', 'SLC', 'SEA'),\n",
       "  ('DL', '2015-05-16', '1755', 'ATL', 'LAX'),\n",
       "  ('DL', '2015-05-16', '2004', 'LAX', 'SLC'),\n",
       "  ('DL', '2015-05-17', '1358', 'SEA', 'LAX'),\n",
       "  ('DL', '2015-05-18', '1063', 'ATL', 'BHM'),\n",
       "  ('DL', '2015-05-18', '1423', 'ATL', 'STL'),\n",
       "  ('DL', '2015-05-18', '1423', 'STL', 'ATL'),\n",
       "  ('DL', '2015-05-18', '1800', 'ATL', 'BOS'),\n",
       "  ('DL', '2015-05-18', '2482', 'BOS', 'ATL'),\n",
       "  ('DL', '2015-05-19', '2002', 'ATL', 'LAS'),\n",
       "  ('DL', '2015-05-19', '667', 'BHM', 'ATL'),\n",
       "  ('DL', '2015-05-19', '766', 'LAS', 'DTW'),\n",
       "  ('DL', '2015-05-20', '1621', 'DTW', 'TPA'),\n",
       "  ('DL', '2015-05-21', '442', 'JFK', 'AUS'),\n",
       "  ('DL', '2015-05-22', '1835', 'ATL', 'SLC'),\n",
       "  ('DL', '2015-05-22', '1984', 'AUS', 'ATL'),\n",
       "  ('DL', '2015-05-23', '1417', 'ATL', 'CVG'),\n",
       "  ('DL', '2015-05-23', '2324', 'SLC', 'ATL'),\n",
       "  ('DL', '2015-05-24', '1581', 'LAX', 'CVG'),\n",
       "  ('DL', '2015-05-24', '1933', 'CVG', 'LAX'),\n",
       "  ('DL', '2015-05-25', '1405', 'LAX', 'MEM'),\n",
       "  ('DL', '2015-05-25', '1502', 'CVG', 'TPA'),\n",
       "  ('DL', '2015-05-25', '1502', 'TPA', 'CVG'),\n",
       "  ('DL', '2015-05-25', '1833', 'CVG', 'LAX'),\n",
       "  ('DL', '2015-05-26', '1806', 'LAX', 'DTW'),\n",
       "  ('DL', '2015-05-26', '2020', 'MEM', 'LAX'),\n",
       "  ('DL', '2015-05-26', '2335', 'DTW', 'DEN'),\n",
       "  ('DL', '2015-05-27', '1610', 'DEN', 'DTW'),\n",
       "  ('DL', '2015-05-27', '1728', 'LAS', 'JFK'),\n",
       "  ('DL', '2015-05-27', '343', 'DTW', 'LAS'),\n",
       "  ('DL', '2015-05-28', '2217', 'JFK', 'PHX'),\n",
       "  ('DL', '2015-05-28', '2405', 'PHX', 'JFK'),\n",
       "  ('DL', '2015-05-28', '2435', 'JFK', 'PHX'),\n",
       "  ('DL', '2015-05-28', '2492', 'PHX', 'DTW'),\n",
       "  ('DL', '2015-05-29', '1167', 'SLC', 'BZN'),\n",
       "  ('DL', '2015-05-29', '1461', 'ORD', 'SLC'),\n",
       "  ('DL', '2015-05-29', '1461', 'SLC', 'ORD'),\n",
       "  ('DL', '2015-05-29', '2034', 'LAS', 'SLC'),\n",
       "  ('DL', '2015-05-29', '2316', 'DTW', 'LAS'),\n",
       "  ('DL', '2015-05-30', '1327', 'PHX', 'ATL'),\n",
       "  ('DL', '2015-05-30', '2526', 'BZN', 'SLC'),\n",
       "  ('DL', '2015-05-30', '2569', 'JFK', 'PHX'),\n",
       "  ('DL', '2015-05-30', '466', 'SLC', 'JFK'),\n",
       "  ('DL', '2015-05-31', '1237', 'DTW', 'BOS'),\n",
       "  ('DL', '2015-05-31', '2002', 'ATL', 'LAS'),\n",
       "  ('DL', '2015-05-31', '766', 'LAS', 'DTW'),\n",
       "  ('DL', '2015-06-01', '1217', 'DTW', 'LAS'),\n",
       "  ('DL', '2015-06-01', '866', 'BOS', 'DTW'),\n",
       "  ('DL', '2015-06-02', '2155', 'LAS', 'JFK'),\n",
       "  ('DL', '2015-06-03', '443', 'JFK', 'LAS'),\n",
       "  ('DL', '2015-06-04', '1602', 'LAS', 'ATL'),\n",
       "  ('DL', '2015-06-06', '1693', 'LAX', 'TPA'),\n",
       "  ('DL', '2015-06-06', '2849', 'BNA', 'LAX'),\n",
       "  ('DL', '2015-06-06', '2849', 'LAX', 'BNA'),\n",
       "  ('DL', '2015-06-07', '2137', 'TPA', 'ATL'),\n",
       "  ('DL', '2015-06-07', '843', 'ATL', 'JFK'),\n",
       "  ('DL', '2015-06-08', '458', 'JFK', 'AUS'),\n",
       "  ('DL', '2015-06-09', '1972', 'AUS', 'JFK'),\n",
       "  ('DL', '2015-06-10', '2835', 'JFK', 'SAT'),\n",
       "  ('DL', '2015-06-10', '2836', 'JFK', 'AUS'),\n",
       "  ('DL', '2015-06-10', '401', 'AUS', 'JFK'),\n",
       "  ('DL', '2015-06-11', '1532', 'SAT', 'JFK'),\n",
       "  ('DL', '2015-06-11', '1901', 'MIA', 'LAX'),\n",
       "  ('DL', '2015-06-11', '495', 'JFK', 'MIA'),\n",
       "  ('DL', '2015-06-12', '1432', 'LAX', 'SEA'),\n",
       "  ('DL', '2015-06-12', '2820', 'SEA', 'LAX'),\n",
       "  ('DL', '2015-06-12', '530', 'ANC', 'SEA'),\n",
       "  ('DL', '2015-06-12', '530', 'SEA', 'ANC'),\n",
       "  ('DL', '2015-06-13', '2188', 'ATL', 'SEA'),\n",
       "  ('DL', '2015-06-13', '2188', 'SEA', 'JNU'),\n",
       "  ('DL', '2015-06-14', '1781', 'JNU', 'SEA'),\n",
       "  ('DL', '2015-06-14', '2179', 'SLC', 'SMF'),\n",
       "  ('DL', '2015-06-14', '707', 'ORD', 'SLC'),\n",
       "  ('DL', '2015-06-14', '707', 'SLC', 'ORD'),\n",
       "  ('DL', '2015-06-14', '786', 'SEA', 'SLC'),\n",
       "  ('DL', '2015-06-15', '1536', 'BWI', 'DTW'),\n",
       "  ('DL', '2015-06-15', '1536', 'DTW', 'BWI'),\n",
       "  ('DL', '2015-06-15', '188', 'DTW', 'BOS'),\n",
       "  ('DL', '2015-06-15', '1936', 'SMF', 'MSP'),\n",
       "  ('DL', '2015-06-15', '2264', 'LAX', 'MEM'),\n",
       "  ('DL', '2015-06-15', '2532', 'BOS', 'LAX'),\n",
       "  ('DL', '2015-06-15', '557', 'MSP', 'DTW'),\n",
       "  ('DL', '2015-06-16', '1543', 'MSY', 'MSP'),\n",
       "  ('DL', '2015-06-16', '1577', 'LAX', 'MSY'),\n",
       "  ('DL', '2015-06-16', '524', 'MEM', 'LAX'),\n",
       "  ('DL', '2015-06-17', '2051', 'MSP', 'LAS'),\n",
       "  ('DL', '2015-06-17', '2812', 'LAS', 'SLC'),\n",
       "  ('DL', '2015-06-17', '779', 'SLC', 'LAS'),\n",
       "  ('DL', '2015-06-18', '1602', 'LAS', 'ATL'),\n",
       "  ('DL', '2015-06-18', '2084', 'ATL', 'STL'),\n",
       "  ('DL', '2015-06-18', '2084', 'STL', 'ATL'),\n",
       "  ('DL', '2015-06-19', '2239', 'ATL', 'SLC'),\n",
       "  ('DL', '2015-06-19', '835', 'SLC', 'ATL'),\n",
       "  ('DL', '2015-06-21', '198', 'SEA', 'LAX'),\n",
       "  ('DL', '2015-06-21', '2592', 'LAX', 'MSY'),\n",
       "  ('DL', '2015-06-21', '759', 'LAX', 'SEA'),\n",
       "  ('DL', '2015-06-22', '2497', 'DEN', 'DTW'),\n",
       "  ('DL', '2015-06-22', '2842', 'LAX', 'SLC'),\n",
       "  ('DL', '2015-06-22', '300', 'SLC', 'DEN'),\n",
       "  ('DL', '2015-06-22', '770', 'MSY', 'LAX'),\n",
       "  ('DL', '2015-06-23', '1737', 'BWI', 'DTW'),\n",
       "  ('DL', '2015-06-23', '1737', 'DTW', 'BWI'),\n",
       "  ('DL', '2015-06-23', '1795', 'DTW', 'PHX'),\n",
       "  ('DL', '2015-06-24', '1600', 'SLC', 'BZN'),\n",
       "  ('DL', '2015-06-24', '1994', 'PHX', 'JFK'),\n",
       "  ('DL', '2015-06-24', '2140', 'LAS', 'SLC'),\n",
       "  ('DL', '2015-06-24', '443', 'JFK', 'LAS'),\n",
       "  ('DL', '2015-06-25', '1217', 'DTW', 'LAS'),\n",
       "  ('DL', '2015-06-25', '134', 'PHX', 'DTW'),\n",
       "  ('DL', '2015-06-25', '2067', 'SLC', 'PHX'),\n",
       "  ('DL', '2015-06-25', '2526', 'BZN', 'SLC'),\n",
       "  ('DL', '2015-06-25', '2796', 'LAS', 'JFK'),\n",
       "  ('DL', '2015-06-26', '1901', 'MIA', 'LAX'),\n",
       "  ('DL', '2015-06-26', '454', 'JFK', 'ATL'),\n",
       "  ('DL', '2015-06-26', '495', 'JFK', 'MIA'),\n",
       "  ('DL', '2015-06-26', '843', 'ATL', 'JFK'),\n",
       "  ('DL', '2015-06-27', '2849', 'BNA', 'LAX'),\n",
       "  ('DL', '2015-06-27', '2849', 'LAX', 'BNA'),\n",
       "  ('DL', '2015-06-28', '1432', 'LAX', 'SEA'),\n",
       "  ('DL', '2015-06-28', '1653', 'SEA', 'FAI'),\n",
       "  ('DL', '2015-06-28', '943', 'ANC', 'SEA'),\n",
       "  ('DL', '2015-06-28', '943', 'SEA', 'ANC'),\n",
       "  ('DL', '2015-06-29', '1578', 'SEA', 'LAX'),\n",
       "  ('DL', '2015-06-29', '1611', 'FAI', 'SEA'),\n",
       "  ('DL', '2015-06-29', '523', 'LAX', 'TPA'),\n",
       "  ('DL', '2015-06-30', '1558', 'TPA', 'LAX'),\n",
       "  ('DL', '2015-06-30', '1845', 'BOS', 'MSP'),\n",
       "  ('DL', '2015-06-30', '2534', 'LAX', 'BOS'),\n",
       "  ('DL', '2015-07-01', '1357', 'MSP', 'DTW'),\n",
       "  ('DL', '2015-07-02', '1231', 'DCA', 'DTW'),\n",
       "  ('DL', '2015-07-02', '1232', 'DTW', 'STL'),\n",
       "  ('DL', '2015-07-02', '1232', 'STL', 'DTW'),\n",
       "  ('DL', '2015-07-02', '1737', 'BWI', 'DTW'),\n",
       "  ('DL', '2015-07-02', '1737', 'DTW', 'BWI'),\n",
       "  ('DL', '2015-07-02', '2144', 'DTW', 'DCA'),\n",
       "  ('DL', '2015-07-03', '1749', 'DTW', 'PHL'),\n",
       "  ('DL', '2015-07-04', '1067', 'DTW', 'PDX'),\n",
       "  ('DL', '2015-07-04', '1238', 'DTW', 'MSY'),\n",
       "  ('DL', '2015-07-04', '1238', 'MSY', 'DTW'),\n",
       "  ('DL', '2015-07-04', '1322', 'PHL', 'DTW'),\n",
       "  ('DL', '2015-07-05', '1156', 'PDX', 'ATL'),\n",
       "  ('DL', '2015-07-05', '1791', 'ATL', 'CHS'),\n",
       "  ('DL', '2015-07-05', '1791', 'CHS', 'ATL'),\n",
       "  ('DL', '2015-07-05', '503', 'ATL', 'PDX'),\n",
       "  ('DL', '2015-07-05', '503', 'PDX', 'ATL'),\n",
       "  ('DL', '2015-07-06', '1061', 'LAX', 'MCO'),\n",
       "  ('DL', '2015-07-06', '1061', 'MCO', 'LAX'),\n",
       "  ('DL', '2015-07-06', '1255', 'ATL', 'LAX'),\n",
       "  ('DL', '2015-07-08', '1905', 'LAX', 'SEA'),\n",
       "  ('DL', '2015-07-08', '198', 'SEA', 'LAX'),\n",
       "  ('DL', '2015-07-08', '2592', 'LAX', 'MSY'),\n",
       "  ('DL', '2015-07-09', '1805', 'TPA', 'LAX'),\n",
       "  ('DL', '2015-07-09', '301', 'LAX', 'TPA'),\n",
       "  ('DL', '2015-07-09', '545', 'LAX', 'CVG'),\n",
       "  ('DL', '2015-07-09', '984', 'MSY', 'LAX'),\n",
       "  ('DL', '2015-07-10', '1807', 'CVG', 'SEA'),\n",
       "  ('DL', '2015-07-10', '2258', 'SEA', 'FAI'),\n",
       "  ('DL', '2015-07-10', '943', 'ANC', 'SEA'),\n",
       "  ('DL', '2015-07-10', '943', 'SEA', 'ANC'),\n",
       "  ('DL', '2015-07-11', '1304', 'SLC', 'ATL'),\n",
       "  ('DL', '2015-07-11', '1611', 'FAI', 'SEA'),\n",
       "  ('DL', '2015-07-11', '1682', 'CVG', 'SLC'),\n",
       "  ('DL', '2015-07-11', '1974', 'SEA', 'LAX'),\n",
       "  ('DL', '2015-07-11', '2640', 'LAX', 'CVG'),\n",
       "  ('DL', '2015-07-12', '2188', 'SEA', 'JNU'),\n",
       "  ('DL', '2015-07-12', '2841', 'LAX', 'SEA'),\n",
       "  ('DL', '2015-07-13', '1470', 'SEA', 'LAX'),\n",
       "  ('DL', '2015-07-13', '1781', 'JNU', 'SEA'),\n",
       "  ('DL', '2015-07-13', '530', 'ANC', 'SEA'),\n",
       "  ('DL', '2015-07-13', '530', 'SEA', 'ANC'),\n",
       "  ('DL', '2015-07-14', '1794', 'PDX', 'MSP'),\n",
       "  ('DL', '2015-07-14', '773', 'ATL', 'PDX'),\n",
       "  ('DL', '2015-07-15', '1975', 'MSY', 'LAX'),\n",
       "  ('DL', '2015-07-15', '2406', 'MSP', 'MSY'),\n",
       "  ('DL', '2015-07-15', '2530', 'LAX', 'DTW'),\n",
       "  ('DL', '2015-07-16', '1737', 'BWI', 'DTW'),\n",
       "  ('DL', '2015-07-16', '1737', 'DTW', 'BWI'),\n",
       "  ('DL', '2015-07-16', '1821', 'DTW', 'PHX'),\n",
       "  ('DL', '2015-07-16', '2201', 'PHX', 'JFK'),\n",
       "  ('DL', '2015-07-17', '488', 'JFK', 'PHX'),\n",
       "  ('DL', '2015-07-18', '1994', 'PHX', 'JFK'),\n",
       "  ('DL', '2015-07-19', '451', 'JFK', 'SJU'),\n",
       "  ('DL', '2015-07-20', '2609', 'JFK', 'MIA'),\n",
       "  ('DL', '2015-07-20', '326', 'SJU', 'JFK'),\n",
       "  ('DL', '2015-07-20', '42', 'MIA', 'JFK'),\n",
       "  ('DL', '2015-07-22', '1841', 'SJU', 'JFK'),\n",
       "  ('DL', '2015-07-22', '2474', 'JFK', 'SJU'),\n",
       "  ('DL', '2015-07-25', '772', 'ATL', 'LAS'),\n",
       "  ('DL', '2015-07-26', '1060', 'SLC', 'DFW'),\n",
       "  ('DL', '2015-07-26', '1795', 'LAS', 'JFK'),\n",
       "  ('DL', '2015-07-26', '2190', 'JFK', 'SLC'),\n",
       "  ('DL', '2015-07-27', '1217', 'DTW', 'LAS'),\n",
       "  ('DL', '2015-07-27', '134', 'PHX', 'DTW'),\n",
       "  ('DL', '2015-07-27', '1728', 'LAS', 'JFK'),\n",
       "  ('DL', '2015-07-27', '2067', 'SLC', 'PHX'),\n",
       "  ('DL', '2015-07-27', '857', 'DFW', 'SLC'),\n",
       "  ('DL', '2015-07-28', '2435', 'JFK', 'AUS'),\n",
       "  ('DL', '2015-07-28', '2791', 'JFK', 'LAS'),\n",
       "  ('DL', '2015-07-28', '401', 'AUS', 'JFK'),\n",
       "  ('DL', '2015-07-29', '1217', 'DTW', 'LAS'),\n",
       "  ('DL', '2015-07-29', '2576', 'LAS', 'DTW'),\n",
       "  ('DL', '2015-07-30', '1602', 'LAS', 'ATL'),\n",
       "  ('DL', '2015-07-30', '2046', 'ATL', 'PHX'),\n",
       "  ('DL', '2015-07-31', '199', 'LAX', 'SEA'),\n",
       "  ('DL', '2015-07-31', '2202', 'PHX', 'LAX'),\n",
       "  ('DL', '2015-07-31', '2220', 'LAX', 'ATL'),\n",
       "  ('DL', '2015-07-31', '848', 'SEA', 'LAX'),\n",
       "  ('DL', '2015-08-01', '459', 'JFK', 'BOS'),\n",
       "  ('DL', '2015-08-02', '1627', 'PDX', 'JFK'),\n",
       "  ('DL', '2015-08-02', '2391', 'BOS', 'MSP'),\n",
       "  ('DL', '2015-08-02', '710', 'MSP', 'PDX'),\n",
       "  ('DL', '2015-08-03', '2842', 'ATL', 'COS'),\n",
       "  ('DL', '2015-08-04', '1789', 'ATL', 'JAX'),\n",
       "  ('DL', '2015-08-04', '1789', 'JAX', 'ATL'),\n",
       "  ('DL', '2015-08-04', '2114', 'COS', 'ATL'),\n",
       "  ('DL', '2015-08-04', '347', 'ATL', 'ORD'),\n",
       "  ('DL', '2015-08-04', '347', 'ORD', 'ATL'),\n",
       "  ('DL', '2015-08-04', '772', 'ATL', 'LAS'),\n",
       "  ('DL', '2015-08-05', '1280', 'SLC', 'MSP'),\n",
       "  ('DL', '2015-08-05', '1391', 'LAS', 'ATL'),\n",
       "  ('DL', '2015-08-05', '1450', 'LAS', 'MSP'),\n",
       "  ('DL', '2015-08-05', '2830', 'MSP', 'LAS'),\n",
       "  ('DL', '2015-08-05', '787', 'MSP', 'SLC'),\n",
       "  ('DL', '2015-08-06', '1061', 'LAX', 'MCO'),\n",
       "  ('DL', '2015-08-06', '1061', 'MCO', 'LAX'),\n",
       "  ('DL', '2015-08-06', '1255', 'ATL', 'LAX'),\n",
       "  ('DL', '2015-08-06', '545', 'LAX', 'CVG'),\n",
       "  ('DL', '2015-08-07', '1807', 'CVG', 'SEA'),\n",
       "  ('DL', '2015-08-07', '2258', 'SEA', 'FAI'),\n",
       "  ('DL', '2015-08-07', '943', 'ANC', 'SEA'),\n",
       "  ('DL', '2015-08-07', '943', 'SEA', 'ANC'),\n",
       "  ('DL', '2015-08-08', '1611', 'FAI', 'SEA'),\n",
       "  ('DL', '2015-08-08', '1682', 'CVG', 'SLC'),\n",
       "  ('DL', '2015-08-08', '1974', 'SEA', 'LAX'),\n",
       "  ('DL', '2015-08-08', '2640', 'LAX', 'CVG'),\n",
       "  ('DL', '2015-08-09', '2579', 'JFK', 'SAN'),\n",
       "  ('DL', '2015-08-09', '2606', 'SAN', 'JFK'),\n",
       "  ('DL', '2015-08-09', '466', 'SLC', 'JFK'),\n",
       "  ('DL', '2015-08-10', '2836', 'JFK', 'PDX'),\n",
       "  ('DL', '2015-08-11', '1909', 'SLC', 'SAN'),\n",
       "  ('DL', '2015-08-11', '2140', 'LAS', 'SLC'),\n",
       "  ('DL', '2015-08-11', '400', 'PDX', 'JFK'),\n",
       "  ('DL', '2015-08-11', '443', 'JFK', 'LAS'),\n",
       "  ('DL', '2015-08-12', '1189', 'BWI', 'SLC'),\n",
       "  ('DL', '2015-08-12', '1189', 'SLC', 'BWI'),\n",
       "  ('DL', '2015-08-12', '1337', 'SLC', 'LAX'),\n",
       "  ('DL', '2015-08-12', '2020', 'LAX', 'MEM'),\n",
       "  ('DL', '2015-08-12', '978', 'SAN', 'SLC'),\n",
       "  ('DL', '2015-08-13', '1577', 'LAX', 'MSY'),\n",
       "  ('DL', '2015-08-13', '1627', 'PDX', 'JFK'),\n",
       "  ('DL', '2015-08-13', '710', 'MSP', 'PDX'),\n",
       "  ('DL', '2015-08-13', '713', 'MSY', 'MSP'),\n",
       "  ('DL', '2015-08-13', '838', 'MEM', 'LAX'),\n",
       "  ('DL', '2015-08-14', '2842', 'ATL', 'COS'),\n",
       "  ('DL', '2015-08-15', '1949', 'ATL', 'MIA'),\n",
       "  ('DL', '2015-08-15', '2114', 'COS', 'ATL'),\n",
       "  ('DL', '2015-08-16', '1728', 'LAS', 'JFK'),\n",
       "  ('DL', '2015-08-16', '1883', 'SLC', 'LAS'),\n",
       "  ('DL', '2015-08-16', '459', 'JFK', 'SLC'),\n",
       "  ('DL', '2015-08-16', '782', 'MIA', 'JFK'),\n",
       "  ('DL', '2015-08-17', '445', 'JFK', 'AUS'),\n",
       "  ('DL', '2015-08-18', '1972', 'AUS', 'JFK'),\n",
       "  ('DL', '2015-08-19', '953', 'ATL', 'SAT'),\n",
       "  ('DL', '2015-08-20', '873', 'SAT', 'JFK'),\n",
       "  ('DL', '2015-08-21', '1841', 'SJU', 'JFK'),\n",
       "  ('DL', '2015-08-21', '2571', 'JFK', 'SAT'),\n",
       "  ('DL', '2015-08-21', '447', 'JFK', 'SJU'),\n",
       "  ('DL', '2015-08-22', '873', 'SAT', 'JFK'),\n",
       "  ('DL', '2015-08-23', '1841', 'SJU', 'JFK'),\n",
       "  ('DL', '2015-08-23', '2784', 'JFK', 'SAT'),\n",
       "  ('DL', '2015-08-23', '447', 'JFK', 'SJU'),\n",
       "  ('DL', '2015-08-24', '1448', 'ATL', 'DTW'),\n",
       "  ('DL', '2015-08-24', '774', 'SAT', 'ATL'),\n",
       "  ('DL', '2015-08-25', '2066', 'MSP', 'LAS'),\n",
       "  ('DL', '2015-08-25', '2391', 'BOS', 'MSP'),\n",
       "  ('DL', '2015-08-25', '2437', 'DTW', 'BOS'),\n",
       "  ('DL', '2015-08-26', '1795', 'LAS', 'JFK'),\n",
       "  ('DL', '2015-08-26', '485', 'JFK', 'ATL'),\n",
       "  ('DL', '2015-08-28', '1357', 'MSP', 'DTW'),\n",
       "  ('DL', '2015-08-28', '2223', 'MSP', 'ORD'),\n",
       "  ('DL', '2015-08-28', '2223', 'ORD', 'MSP'),\n",
       "  ('DL', '2015-08-29', '1056', 'SEA', 'CVG'),\n",
       "  ('DL', '2015-08-29', '2045', 'ANC', 'SEA'),\n",
       "  ('DL', '2015-08-29', '2045', 'SEA', 'ANC'),\n",
       "  ('DL', '2015-08-29', '281', 'DTW', 'SEA'),\n",
       "  ('DL', '2015-08-30', '1807', 'CVG', 'SEA'),\n",
       "  ('DL', '2015-08-30', '2188', 'SEA', 'JNU'),\n",
       "  ('DL', '2015-08-30', '943', 'ANC', 'SEA'),\n",
       "  ('DL', '2015-08-30', '943', 'SEA', 'ANC'),\n",
       "  ('DL', '2015-08-31', '1781', 'JNU', 'SEA'),\n",
       "  ('DL', '2015-08-31', '384', 'SEA', 'LAX'),\n",
       "  ('DL', '2015-08-31', '530', 'ANC', 'SEA'),\n",
       "  ('DL', '2015-08-31', '530', 'SEA', 'ANC'),\n",
       "  ('DL', '2015-09-01', '1553', 'ATL', 'DFW'),\n",
       "  ('DL', '2015-09-01', '30', 'DFW', 'ATL'),\n",
       "  ('DL', '2015-09-28', '1534', 'IND', 'ATL'),\n",
       "  ('DL', '2015-09-29', '1402', 'ATL', 'LAS'),\n",
       "  ('DL', '2015-09-29', '1529', 'LAS', 'JFK'),\n",
       "  ('DL', '2015-09-30', '1151', 'MSP', 'SFO'),\n",
       "  ('DL', '2015-09-30', '1998', 'SFO', 'SLC'),\n",
       "  ('DL', '2015-09-30', '2175', 'JFK', 'MSP'),\n",
       "  ('DL', '2015-09-30', '2619', 'LAS', 'JFK'),\n",
       "  ('DL', '2015-09-30', '779', 'SLC', 'LAS'),\n",
       "  ('DL', '2015-10-01', '2833', 'JFK', 'SAN'),\n",
       "  ('DL', '2015-10-01', '403', 'SAN', 'JFK'),\n",
       "  ('DL', '2015-10-02', '1210', 'DTW', 'RDU'),\n",
       "  ('DL', '2015-10-02', '2122', 'PHX', 'DTW'),\n",
       "  ('DL', '2015-10-02', '425', 'JFK', 'PHX'),\n",
       "  ('DL', '2015-10-03', '1124', 'LAX', 'PHX'),\n",
       "  ('DL', '2015-10-03', '2618', 'RDU', 'LAX'),\n",
       "  ('DL', '2015-10-04', '1128', 'PHX', 'ATL'),\n",
       "  ('DL', '2015-10-04', '2330', 'ATL', 'SLC'),\n",
       "  ('DL', '2015-10-04', '662', 'SLC', 'LAX'),\n",
       "  ('DL', '2015-10-04', '739', 'LAX', 'PHX'),\n",
       "  ('DL', '2015-10-05', '1429', 'LAS', 'JFK'),\n",
       "  ('DL', '2015-10-05', '1994', 'PHX', 'JFK'),\n",
       "  ('DL', '2015-10-05', '439', 'JFK', 'LAS'),\n",
       "  ('DL', '2015-10-06', '403', 'SAN', 'JFK'),\n",
       "  ('DL', '2015-10-06', '437', 'JFK', 'SAN'),\n",
       "  ('DL', '2015-10-07', '29', 'ATL', 'DFW'),\n",
       "  ('DL', '2015-10-08', '1890', 'DFW', 'ATL'),\n",
       "  ('DL', '2015-10-08', '2556', 'ATL', 'RDU'),\n",
       "  ('DL', '2015-10-09', '2196', 'SLC', 'MCO'),\n",
       "  ('DL', '2015-10-09', '2332', 'LAX', 'SLC'),\n",
       "  ('DL', '2015-10-09', '2618', 'RDU', 'LAX'),\n",
       "  ('DL', '2015-10-10', '1332', 'CVG', 'LAS'),\n",
       "  ('DL', '2015-10-10', '842', 'SLC', 'CVG'),\n",
       "  ('DL', '2015-10-10', '995', 'MCO', 'SLC'),\n",
       "  ('DL', '2015-10-11', '1490', 'DTW', 'LAS'),\n",
       "  ('DL', '2015-10-11', '1932', 'LAS', 'DTW'),\n",
       "  ('DL', '2015-10-11', '780', 'LAS', 'MSP'),\n",
       "  ('DL', '2015-10-12', '1280', 'SLC', 'MSP'),\n",
       "  ('DL', '2015-10-12', '1728', 'LAS', 'JFK'),\n",
       "  ('DL', '2015-10-12', '2051', 'MSP', 'LAS'),\n",
       "  ('DL', '2015-10-12', '787', 'MSP', 'SLC'),\n",
       "  ('DL', '2015-10-13', '2153', 'JFK', 'PHX'),\n",
       "  ('DL', '2015-10-13', '2217', 'JFK', 'SJU'),\n",
       "  ('DL', '2015-10-13', '511', 'SJU', 'JFK'),\n",
       "  ('DL', '2015-10-14', '1529', 'LAS', 'CVG'),\n",
       "  ('DL', '2015-10-14', '1994', 'PHX', 'JFK'),\n",
       "  ('DL', '2015-10-14', '439', 'JFK', 'LAS'),\n",
       "  ('DL', '2015-10-15', '2315', 'CVG', 'ATL'),\n",
       "  ('DL', '2015-10-19', '1740', 'LAS', 'SLC'),\n",
       "  ('DL', '2015-10-19', '1830', 'SLC', 'JFK'),\n",
       "  ('DL', '2015-10-19', '421', 'JFK', 'LAS'),\n",
       "  ('DL', '2015-10-20', '1740', 'LAS', 'SLC'),\n",
       "  ('DL', '2015-10-20', '421', 'JFK', 'LAS'),\n",
       "  ('DL', '2015-10-20', '662', 'SLC', 'LAX'),\n",
       "  ('DL', '2015-10-20', '739', 'LAX', 'PHX'),\n",
       "  ('DL', '2015-10-21', '1128', 'PHX', 'ATL'),\n",
       "  ('DL', '2015-10-21', '1705', 'ATL', 'SFO'),\n",
       "  ('DL', '2015-10-21', '1705', 'SFO', 'ATL'),\n",
       "  ('DL', '2015-10-22', '1351', 'ATL', 'AUS'),\n",
       "  ('DL', '2015-10-22', '1351', 'AUS', 'ATL'),\n",
       "  ('DL', '2015-10-22', '2241', 'ATL', 'ORD'),\n",
       "  ('DL', '2015-10-23', '977', 'ORD', 'ATL'),\n",
       "  ('DL', '2015-10-27', '1374', 'OAK', 'SLC'),\n",
       "  ('DL', '2015-10-27', '1374', 'SLC', 'OAK'),\n",
       "  ('DL', '2015-10-27', '2436', 'SLC', 'DEN'),\n",
       "  ('DL', '2015-10-27', '453', 'JFK', 'SLC'),\n",
       "  ('DL', '2015-10-28', '1072', 'SFO', 'SLC'),\n",
       "  ('DL', '2015-10-28', '1151', 'MSP', 'SFO'),\n",
       "  ('DL', '2015-10-28', '1429', 'LAS', 'JFK'),\n",
       "  ('DL', '2015-10-28', '1716', 'DEN', 'MSP'),\n",
       "  ('DL', '2015-10-28', '779', 'SLC', 'LAS'),\n",
       "  ('DL', '2015-10-29', '1841', 'SJU', 'JFK'),\n",
       "  ('DL', '2015-10-29', '442', 'JFK', 'SJU'),\n",
       "  ('DL', '2015-10-30', '1374', 'OAK', 'SLC'),\n",
       "  ('DL', '2015-10-30', '1374', 'SLC', 'OAK'),\n",
       "  ('DL', '2015-10-30', '453', 'JFK', 'SLC'),\n",
       "  ('DL', '2015-10-30', '652', 'SLC', 'BZN'),\n",
       "  ('DL', '2015-10-31', '1158', 'SLC', 'MCO'),\n",
       "  ('DL', '2015-10-31', '2526', 'BZN', 'SLC'),\n",
       "  ('DL', '2015-11-01', '185', 'MCO', 'LAX'),\n",
       "  ('DL', '2015-11-01', '2171', 'LAX', 'MIA'),\n",
       "  ('DL', '2015-11-02', '1843', 'SLC', 'BOS'),\n",
       "  ('DL', '2015-11-02', '2005', 'ATL', 'DTW'),\n",
       "  ('DL', '2015-11-02', '2317', 'DTW', 'LAS'),\n",
       "  ('DL', '2015-11-02', '89', 'LAS', 'SLC'),\n",
       "  ('DL', '2015-11-03', '1542', 'SEA', 'JFK'),\n",
       "  ('DL', '2015-11-03', '2083', 'BOS', 'SLC'),\n",
       "  ('DL', '2015-11-03', '444', 'SLC', 'JFK'),\n",
       "  ('DL', '2015-11-03', '460', 'JFK', 'SEA'),\n",
       "  ('DL', '2015-11-04', '549', 'ATL', 'SJU'),\n",
       "  ('DL', '2015-11-05', '147', 'SLC', 'ATL'),\n",
       "  ('DL', '2015-11-05', '1507', 'ATL', 'SLC'),\n",
       "  ('DL', '2015-11-05', '2831', 'ATL', 'MCI'),\n",
       "  ('DL', '2015-11-05', '922', 'SJU', 'ATL'),\n",
       "  ('DL', '2015-11-06', '1630', 'ATL', 'SAT'),\n",
       "  ('DL', '2015-11-06', '2165', 'MCI', 'ATL'),\n",
       "  ('DL', '2015-11-07', '303', 'ATL', 'RDU'),\n",
       "  ('DL', '2015-11-07', '774', 'SAT', 'ATL'),\n",
       "  ('DL', '2015-11-08', '1482', 'RDU', 'ATL'),\n",
       "  ('DL', '2015-11-09', '882', 'ATL', 'MCI'),\n",
       "  ('DL', '2015-11-10', '2165', 'MCI', 'ATL'),\n",
       "  ('DL', '2015-11-11', '1786', 'ATL', 'LGA'),\n",
       "  ('DL', '2015-11-11', '847', 'LGA', 'ATL'),\n",
       "  ('DL', '2015-11-12', '1211', 'SLC', 'LAX'),\n",
       "  ('DL', '2015-11-12', '2004', 'LAX', 'SLC'),\n",
       "  ('DL', '2015-11-13', '1457', 'SLC', 'SEA'),\n",
       "  ('DL', '2015-11-13', '1585', 'SLC', 'LAX'),\n",
       "  ('DL', '2015-11-13', '2157', 'SEA', 'SLC'),\n",
       "  ('DL', '2015-11-13', '2377', 'LAX', 'SLC'),\n",
       "  ('DL', '2015-11-15', '303', 'ATL', 'RDU'),\n",
       "  ('DL', '2015-11-16', '1137', 'RDU', 'ATL'),\n",
       "  ('DL', '2015-11-16', '1402', 'ATL', 'LAS'),\n",
       "  ('DL', '2015-11-16', '2508', 'LAS', 'JFK'),\n",
       "  ('DL', '2015-11-17', '2474', 'JFK', 'SJU'),\n",
       "  ('DL', '2015-11-17', '2838', 'JFK', 'SJU'),\n",
       "  ('DL', '2015-11-17', '42', 'SJU', 'JFK'),\n",
       "  ('DL', '2015-11-18', '326', 'SJU', 'JFK'),\n",
       "  ('DL', '2015-11-18', '332', 'SJU', 'JFK'),\n",
       "  ('DL', '2015-11-18', '446', 'JFK', 'SJU'),\n",
       "  ('DL', '2015-11-20', '1389', 'LAS', 'DTW'),\n",
       "  ('DL', '2015-11-20', '459', 'JFK', 'LAS'),\n",
       "  ('DL', '2015-11-21', '36', 'SEA', 'ANC'),\n",
       "  ('DL', '2015-11-21', '935', 'DTW', 'SEA'),\n",
       "  ('DL', '2015-11-22', '2303', 'JFK', 'PDX'),\n",
       "  ('DL', '2015-11-22', '2397', 'SEA', 'SLC'),\n",
       "  ('DL', '2015-11-22', '444', 'SLC', 'JFK'),\n",
       "  ('DL', '2015-11-22', '822', 'ANC', 'SEA'),\n",
       "  ('DL', '2015-11-23', '1736', 'PDX', 'JFK'),\n",
       "  ('DL', '2015-11-23', '483', 'JFK', 'SEA'),\n",
       "  ('DL', '2015-11-24', '1972', 'SEA', 'JFK'),\n",
       "  ('DL', '2015-11-24', '405', 'JFK', 'LAS'),\n",
       "  ('DL', '2015-11-24', '761', 'LAS', 'CVG'),\n",
       "  ('DL', '2015-11-25', '1741', 'CVG', 'SLC'),\n",
       "  ('DL', '2015-11-25', '2303', 'JFK', 'PDX'),\n",
       "  ('DL', '2015-11-25', '444', 'SLC', 'JFK'),\n",
       "  ('DL', '2015-11-26', '1831', 'PDX', 'SLC'),\n",
       "  ('DL', '2015-11-26', '1859', 'SLC', 'LAX'),\n",
       "  ('DL', '2015-11-26', '2170', 'SLC', 'LAX'),\n",
       "  ('DL', '2015-11-26', '2825', 'LAX', 'SLC'),\n",
       "  ('DL', '2015-11-27', '2200', 'LAX', 'MIA'),\n",
       "  ('DL', '2015-11-28', '1169', 'MIA', 'LAX'),\n",
       "  ('DL', '2015-11-28', '1566', 'LAX', 'RDU'),\n",
       "  ('DL', '2015-11-28', '2787', 'BNA', 'LAX'),\n",
       "  ('DL', '2015-11-28', '2787', 'LAX', 'BNA'),\n",
       "  ('DL', '2015-11-29', '1170', 'LAX', 'CMH'),\n",
       "  ('DL', '2015-11-29', '2618', 'RDU', 'LAX'),\n",
       "  ('DL', '2015-11-30', '1327', 'CMH', 'LAX'),\n",
       "  ('DL', '2015-11-30', '2034', 'MIA', 'JFK'),\n",
       "  ('DL', '2015-11-30', '2200', 'LAX', 'MIA'),\n",
       "  ('DL', '2015-12-01', '1473', 'SEA', 'JFK'),\n",
       "  ('DL', '2015-12-01', '2303', 'JFK', 'PDX'),\n",
       "  ('DL', '2015-12-01', '428', 'JFK', 'SEA'),\n",
       "  ('DL', '2015-12-02', '1504', 'PDX', 'JFK'),\n",
       "  ('DL', '2015-12-02', '483', 'JFK', 'SEA'),\n",
       "  ('DL', '2015-12-03', '2397', 'SEA', 'SLC'),\n",
       "  ('DL', '2015-12-03', '444', 'SLC', 'JFK'),\n",
       "  ('DL', '2015-12-03', '446', 'JFK', 'SAN'),\n",
       "  ('DL', '2015-12-04', '1260', 'SLC', 'PDX'),\n",
       "  ('DL', '2015-12-04', '2404', 'SAN', 'JFK'),\n",
       "  ('DL', '2015-12-04', '431', 'JFK', 'SLC'),\n",
       "  ('DL', '2015-12-05', '1074', 'SLC', 'MSP'),\n",
       "  ('DL', '2015-12-05', '1683', 'SLC', 'LAS'),\n",
       "  ('DL', '2015-12-05', '1980', 'PDX', 'SLC'),\n",
       "  ('DL', '2015-12-05', '89', 'LAS', 'SLC'),\n",
       "  ('DL', '2015-12-06', '1454', 'LAX', 'ATL'),\n",
       "  ('DL', '2015-12-06', '1577', 'MSY', 'LAX'),\n",
       "  ('DL', '2015-12-06', '2839', 'MSP', 'MSY'),\n",
       "  ('DL', '2015-12-07', '1204', 'ATL', 'LAX'),\n",
       "  ('DL', '2015-12-07', '2428', 'LAX', 'TPA'),\n",
       "  ('DL', '2015-12-08', '1061', 'LAX', 'MCO'),\n",
       "  ('DL', '2015-12-08', '1061', 'MCO', 'LAX'),\n",
       "  ('DL', '2015-12-08', '1558', 'TPA', 'LAX'),\n",
       "  ('DL', '2015-12-09', '1654', 'LAX', 'ATL'),\n",
       "  ('DL', '2015-12-10', '1204', 'ATL', 'LAX'),\n",
       "  ('DL', '2015-12-10', '2428', 'LAX', 'TPA'),\n",
       "  ('DL', '2015-12-11', '1061', 'LAX', 'MCO'),\n",
       "  ('DL', '2015-12-11', '1061', 'MCO', 'LAX'),\n",
       "  ('DL', '2015-12-11', '1558', 'TPA', 'LAX'),\n",
       "  ('DL', '2015-12-12', '1554', 'LAX', 'ATL'),\n",
       "  ('DL', '2015-12-13', '1061', 'LAX', 'MCO'),\n",
       "  ('DL', '2015-12-13', '1061', 'MCO', 'LAX'),\n",
       "  ('DL', '2015-12-13', '1204', 'ATL', 'LAX'),\n",
       "  ('DL', '2015-12-13', '186', 'LAX', 'MCO'),\n",
       "  ('DL', '2015-12-14', '185', 'MCO', 'LAX'),\n",
       "  ('DL', '2015-12-14', '2787', 'BNA', 'LAX'),\n",
       "  ('DL', '2015-12-14', '2787', 'LAX', 'BNA'),\n",
       "  ('DL', '2015-12-15', '2534', 'LAX', 'BOS'),\n",
       "  ('DL', '2015-12-16', '2145', 'SLC', 'SEA'),\n",
       "  ('DL', '2015-12-16', '2531', 'BOS', 'LAX'),\n",
       "  ('DL', '2015-12-16', '36', 'SEA', 'ANC'),\n",
       "  ('DL', '2015-12-16', '671', 'LAX', 'SLC'),\n",
       "  ('DL', '2015-12-17', '1384', 'LAX', 'SEA'),\n",
       "  ('DL', '2015-12-17', '142', 'ANC', 'SEA'),\n",
       "  ('DL', '2015-12-17', '1549', 'SEA', 'JNU'),\n",
       "  ('DL', '2015-12-17', '2019', 'SEA', 'LAX'),\n",
       "  ('DL', '2015-12-18', '1487', 'DTW', 'MEM'),\n",
       "  ('DL', '2015-12-18', '2073', 'SEA', 'DTW'),\n",
       "  ('DL', '2015-12-18', '2230', 'JNU', 'SEA'),\n",
       "  ('DL', '2015-12-19', '1678', 'MSP', 'LAX'),\n",
       "  ('DL', '2015-12-19', '2020', 'MEM', 'LAX'),\n",
       "  ('DL', '2015-12-19', '2534', 'LAX', 'BOS'),\n",
       "  ('DL', '2015-12-19', '2549', 'BOS', 'MSP'),\n",
       "  ('DL', '2015-12-20', '1549', 'SEA', 'JNU'),\n",
       "  ('DL', '2015-12-20', '1727', 'LAX', 'SEA'),\n",
       "  ('DL', '2015-12-21', '2230', 'JNU', 'SEA'),\n",
       "  ('DL', '2015-12-21', '2413', 'SEA', 'LAX'),\n",
       "  ('DL', '2015-12-22', '1321', 'MSP', 'BOI'),\n",
       "  ('DL', '2015-12-22', '1668', 'LAX', 'MSP'),\n",
       "  ('DL', '2015-12-23', '1316', 'BOI', 'MSP'),\n",
       "  ('DL', '2015-12-23', '1454', 'LAX', 'ATL'),\n",
       "  ('DL', '2015-12-23', '1577', 'MSY', 'LAX'),\n",
       "  ('DL', '2015-12-23', '2839', 'MSP', 'MSY'),\n",
       "  ('DL', '2015-12-24', '2414', 'ATL', 'SEA'),\n",
       "  ('DL', '2015-12-25', '1549', 'SEA', 'JNU'),\n",
       "  ('DL', '2015-12-25', '2791', 'SEA', 'DTW'),\n",
       "  ('DL', '2015-12-25', '662', 'DTW', 'SEA'),\n",
       "  ('DL', '2015-12-26', '1554', 'LAX', 'ATL'),\n",
       "  ('DL', '2015-12-26', '2230', 'JNU', 'SEA'),\n",
       "  ('DL', '2015-12-26', '2413', 'SEA', 'LAX'),\n",
       "  ('DL', '2015-12-27', '2117', 'ATL', 'COS'),\n",
       "  ('DL', '2015-12-28', '1613', 'ATL', 'IND'),\n",
       "  ('DL', '2015-12-28', '1613', 'IND', 'ATL'),\n",
       "  ('DL', '2015-12-28', '2114', 'COS', 'ATL'),\n",
       "  ('DL', '2015-12-29', '1241', 'SLC', 'BZN'),\n",
       "  ('DL', '2015-12-29', '1782', 'MSP', 'SLC'),\n",
       "  ('DL', '2015-12-29', '721', 'ATL', 'MSP'),\n",
       "  ('DL', '2015-12-30', '1170', 'LAX', 'CMH'),\n",
       "  ('DL', '2015-12-30', '1208', 'BZN', 'SLC'),\n",
       "  ('DL', '2015-12-30', '1223', 'DTW', 'LAX'),\n",
       "  ('DL', '2015-12-30', '1483', 'SLC', 'LAS'),\n",
       "  ('DL', '2015-12-30', '1545', 'LAS', 'DTW'),\n",
       "  ('DL', '2015-12-31', '1327', 'CMH', 'LAX'),\n",
       "  ('DL', '2015-12-31', '1431', 'MSY', 'MSP'),\n",
       "  ('DL', '2015-12-31', '2340', 'LAX', 'MSY')]}"
      ]
     },
     "execution_count": 53,
     "metadata": {},
     "output_type": "execute_result"
    }
   ],
   "source": [
    "# Filter down to the fields we need to identify and link to a flight\n",
    "flights = on_time_dataframe.rdd.map(\n",
    "    lambda x: (x.Carrier, x.FlightDate, x.FlightNum, x.Origin, x.Dest, x.TailNum)\n",
    ")\n",
    "\n",
    "# Group flights by tail number, sorted by date, then flight number, then origin/dest\n",
    "flights_per_airplane = flights\\\n",
    "  .map(lambda nameTuple: (nameTuple[5], [nameTuple[0:5]]))\\\n",
    "  .reduceByKey(lambda a, b: a + b)\\\n",
    "  .map(lambda tuple:\n",
    "      {\n",
    "        'TailNum': tuple[0], \n",
    "        'Flights': sorted(tuple[1], key=lambda x: (x[1], x[2], x[3], x[4]))\n",
    "      }\n",
    "    )\n",
    "flights_per_airplane.first()"
   ]
  },
  {
   "cell_type": "markdown",
   "metadata": {},
   "source": [
    "# Counting Late Flights"
   ]
  },
  {
   "cell_type": "code",
   "execution_count": 56,
   "metadata": {},
   "outputs": [
    {
     "name": "stdout",
     "output_type": "stream",
     "text": [
      "2,125,618\n",
      "2,086,896\n"
     ]
    },
    {
     "data": {
      "text/plain": [
       "35.9"
      ]
     },
     "execution_count": 56,
     "metadata": {},
     "output_type": "execute_result"
    }
   ],
   "source": [
    "total_flights = on_time_dataframe.count()\n",
    "\n",
    "# Flights that were late leaving...\n",
    "late_departures = on_time_dataframe.filter(\n",
    "  on_time_dataframe.DepDelayMinutes > 0\n",
    ")\n",
    "total_late_departures = late_departures.count()\n",
    "print(f'{total_late_departures:,}')\n",
    "\n",
    "# Flights that were late arriving...\n",
    "late_arrivals = on_time_dataframe.filter(\n",
    "  on_time_dataframe.ArrDelayMinutes > 0\n",
    ")\n",
    "total_late_arrivals = late_arrivals.count()\n",
    "print(f'{total_late_arrivals:,}')\n",
    "\n",
    "# Get the percentage of flights that are late, rounded to 1 decimal place\n",
    "pct_late = round((total_late_arrivals / (total_flights * 1.0)) * 100, 1)\n",
    "pct_late"
   ]
  },
  {
   "cell_type": "markdown",
   "metadata": {},
   "source": [
    "# Counting Flights with Hero Captains\n",
    "\n",
    "\"Hero Captains\" are those that depart late but make up time in the air and arrive on time or early."
   ]
  },
  {
   "cell_type": "code",
   "execution_count": 60,
   "metadata": {},
   "outputs": [
    {
     "name": "stdout",
     "output_type": "stream",
     "text": [
      "606,902\n"
     ]
    }
   ],
   "source": [
    "# Flights that left late but made up time to arrive on time...\n",
    "on_time_heros = on_time_dataframe.filter(\n",
    "  (on_time_dataframe.DepDelayMinutes > 0)\n",
    "  &\n",
    "  (on_time_dataframe.ArrDelayMinutes <= 0)\n",
    ")\n",
    "total_on_time_heros = on_time_heros.count()\n",
    "print(f'{total_on_time_heros:,}')"
   ]
  },
  {
   "cell_type": "markdown",
   "metadata": {},
   "source": [
    "# Printing Our Results"
   ]
  },
  {
   "cell_type": "code",
   "execution_count": 61,
   "metadata": {},
   "outputs": [
    {
     "name": "stdout",
     "output_type": "stream",
     "text": [
      "Total flights:   5,819,079\n",
      "Late departures: 2,125,618\n",
      "Late arrivals:   2,086,896\n",
      "Recoveries:      606,902\n",
      "Percentage Late: 35.9%\n"
     ]
    }
   ],
   "source": [
    "print(\"Total flights:   {:,}\".format(total_flights))\n",
    "print(\"Late departures: {:,}\".format(total_late_departures))\n",
    "print(\"Late arrivals:   {:,}\".format(total_late_arrivals))\n",
    "print(\"Recoveries:      {:,}\".format(total_on_time_heros))\n",
    "print(\"Percentage Late: {}%\".format(pct_late))"
   ]
  },
  {
   "cell_type": "markdown",
   "metadata": {},
   "source": [
    "# Computing the Average Lateness Per Flights"
   ]
  },
  {
   "cell_type": "code",
   "execution_count": 62,
   "metadata": {},
   "outputs": [
    {
     "name": "stdout",
     "output_type": "stream",
     "text": [
      "+-----------+-----------+\n",
      "|AvgDepDelay|AvgArrDelay|\n",
      "+-----------+-----------+\n",
      "|        9.4|        4.4|\n",
      "+-----------+-----------+\n",
      "\n"
     ]
    }
   ],
   "source": [
    "# Get the average minutes late departing and arriving\n",
    "spark.sql(\"\"\"\n",
    "SELECT\n",
    "  ROUND(AVG(DepDelay),1) AS AvgDepDelay,\n",
    "  ROUND(AVG(ArrDelay),1) AS AvgArrDelay\n",
    "FROM on_time_performance\n",
    "\"\"\"\n",
    ").show()"
   ]
  },
  {
   "cell_type": "markdown",
   "metadata": {},
   "source": [
    "# Inspecting Late Flights"
   ]
  },
  {
   "cell_type": "code",
   "execution_count": 63,
   "metadata": {},
   "outputs": [
    {
     "name": "stdout",
     "output_type": "stream",
     "text": [
      "+---------------+------------+------------+--------+-------------+-----------------+\n",
      "|ArrDelayMinutes|WeatherDelay|CarrierDelay|NASDelay|SecurityDelay|LateAircraftDelay|\n",
      "+---------------+------------+------------+--------+-------------+-----------------+\n",
      "|           31.0|         0.0|        31.0|     0.0|          0.0|              0.0|\n",
      "|           61.0|         0.0|         0.0|     0.0|          0.0|             61.0|\n",
      "|           17.0|         0.0|         0.0|    17.0|          0.0|              0.0|\n",
      "|          310.0|         0.0|        75.0|     0.0|          0.0|            235.0|\n",
      "|           17.0|         0.0|         0.0|     2.0|          0.0|             15.0|\n",
      "|           56.0|         0.0|        30.0|     0.0|          0.0|             26.0|\n",
      "|           17.0|         0.0|        14.0|     3.0|          0.0|              0.0|\n",
      "|          126.0|         0.0|         0.0|    21.0|          0.0|            105.0|\n",
      "|           29.0|         0.0|         0.0|     2.0|          0.0|             27.0|\n",
      "|           60.0|         0.0|        20.0|    36.0|          0.0|              4.0|\n",
      "|           20.0|         0.0|         0.0|    20.0|          0.0|              0.0|\n",
      "|           23.0|         0.0|        23.0|     0.0|          0.0|              0.0|\n",
      "|           88.0|         0.0|         0.0|     0.0|          0.0|             88.0|\n",
      "|           76.0|         0.0|         2.0|     0.0|          0.0|             74.0|\n",
      "|           25.0|         0.0|         6.0|    19.0|          0.0|              0.0|\n",
      "|           32.0|         0.0|        21.0|    11.0|          0.0|              0.0|\n",
      "|           69.0|         0.0|         1.0|    68.0|          0.0|              0.0|\n",
      "|           29.0|         0.0|         4.0|    25.0|          0.0|              0.0|\n",
      "|           22.0|         0.0|         8.0|    14.0|          0.0|              0.0|\n",
      "|           25.0|         0.0|         0.0|     0.0|          0.0|             25.0|\n",
      "+---------------+------------+------------+--------+-------------+-----------------+\n",
      "only showing top 20 rows\n",
      "\n"
     ]
    }
   ],
   "source": [
    "# Why are flights late? Lets look at some delayed flights and the delay causes\n",
    "late_flights = spark.sql(\"\"\"\n",
    "SELECT\n",
    "  ArrDelayMinutes,\n",
    "  WeatherDelay,\n",
    "  CarrierDelay,\n",
    "  NASDelay,\n",
    "  SecurityDelay,\n",
    "  LateAircraftDelay\n",
    "FROM\n",
    "  on_time_performance\n",
    "WHERE\n",
    "  WeatherDelay IS NOT NULL\n",
    "  OR\n",
    "  CarrierDelay IS NOT NULL\n",
    "  OR\n",
    "  NASDelay IS NOT NULL\n",
    "  OR\n",
    "  SecurityDelay IS NOT NULL\n",
    "  OR\n",
    "  LateAircraftDelay IS NOT NULL\n",
    "ORDER BY\n",
    "  FlightDate\n",
    "\"\"\")\n",
    "late_flights.sample(False, 0.01).show()"
   ]
  },
  {
   "cell_type": "markdown",
   "metadata": {},
   "source": [
    "# Determining Why Flights Are Late"
   ]
  },
  {
   "cell_type": "code",
   "execution_count": 64,
   "metadata": {},
   "outputs": [
    {
     "name": "stdout",
     "output_type": "stream",
     "text": [
      "+-----------------+-----------------+-------------+------------------+-----------------------+\n",
      "|pct_weather_delay|pct_carrier_delay|pct_nas_delay|pct_security_delay|pct_late_aircraft_delay|\n",
      "+-----------------+-----------------+-------------+------------------+-----------------------+\n",
      "|              4.5|             29.2|         20.7|               0.1|                   36.1|\n",
      "+-----------------+-----------------+-------------+------------------+-----------------------+\n",
      "\n"
     ]
    }
   ],
   "source": [
    "# Calculate the percentage contribution to delay for each source\n",
    "total_delays = spark.sql(\"\"\"\n",
    "SELECT\n",
    "  ROUND(SUM(WeatherDelay)/SUM(ArrDelayMinutes) * 100, 1) AS pct_weather_delay,\n",
    "  ROUND(SUM(CarrierDelay)/SUM(ArrDelayMinutes) * 100, 1) AS pct_carrier_delay,\n",
    "  ROUND(SUM(NASDelay)/SUM(ArrDelayMinutes) * 100, 1) AS pct_nas_delay,\n",
    "  ROUND(SUM(SecurityDelay)/SUM(ArrDelayMinutes) * 100, 1) AS pct_security_delay,\n",
    "  ROUND(SUM(LateAircraftDelay)/SUM(ArrDelayMinutes) * 100, 1) AS pct_late_aircraft_delay\n",
    "FROM on_time_performance\n",
    "\"\"\")\n",
    "total_delays.show()"
   ]
  },
  {
   "cell_type": "markdown",
   "metadata": {},
   "source": [
    "# Computing a Histogram of Weather Delayed Flights"
   ]
  },
  {
   "cell_type": "code",
   "execution_count": 67,
   "metadata": {},
   "outputs": [
    {
     "name": "stdout",
     "output_type": "stream",
     "text": [
      "([1, 5, 10, 15, 30, 60, 120, 240, 480, 720, 1440.0], [5436, 7668, 6636, 16007, 13569, 9442, 4598, 1136, 152, 72])\n"
     ]
    }
   ],
   "source": [
    "# Eyeball the first to define our buckets\n",
    "weather_delay_histogram = on_time_dataframe\\\n",
    "  .select(\"WeatherDelay\")\\\n",
    "  .rdd\\\n",
    "  .flatMap(lambda x: x)\\\n",
    "  .histogram([1, 5, 10, 15, 30, 60, 120, 240, 480, 720, 24*60.0])\n",
    "print(weather_delay_histogram)"
   ]
  },
  {
   "cell_type": "code",
   "execution_count": 69,
   "metadata": {},
   "outputs": [
    {
     "data": {
      "text/plain": [
       "<BarContainer object of 10 artists>"
      ]
     },
     "execution_count": 69,
     "metadata": {},
     "output_type": "execute_result"
    },
    {
     "data": {
      "image/png": "[encoded data removed]",
      "text/plain": [
       "<Figure size 1296x864 with 1 Axes>"
      ]
     },
     "metadata": {
      "needs_background": "light"
     },
     "output_type": "display_data"
    }
   ],
   "source": [
    "# See above for definition\n",
    "create_hist(weather_delay_histogram)"
   ]
  },
  {
   "cell_type": "markdown",
   "metadata": {},
   "source": [
    "# Preparing a Histogram for Visualization by d3.js"
   ]
  },
  {
   "cell_type": "code",
   "execution_count": 73,
   "metadata": {},
   "outputs": [
    {
     "name": "stdout",
     "output_type": "stream",
     "text": [
      "([0, 15, 30, 60, 120, 240, 480, 720, 1440.0], [19740, 16007, 13569, 9442, 4598, 1136, 152, 72])\n"
     ]
    },
    {
     "data": {
      "text/plain": [
       "{'key': 1,\n",
       " 'data': [{'label': 0, 'value': 19740},\n",
       "  {'label': 15, 'value': 16007},\n",
       "  {'label': 30, 'value': 13569},\n",
       "  {'label': 60, 'value': 9442},\n",
       "  {'label': 120, 'value': 4598},\n",
       "  {'label': 240, 'value': 1136},\n",
       "  {'label': 480, 'value': 152},\n",
       "  {'label': 720, 'value': 72}]}"
      ]
     },
     "execution_count": 73,
     "metadata": {},
     "output_type": "execute_result"
    }
   ],
   "source": [
    "# Transform the data into something easily consumed by d3\n",
    "def histogram_to_publishable(histogram):\n",
    "  record = {'key': 1, 'data': []}\n",
    "  for label, value in zip(histogram[0], histogram[1]):\n",
    "    record['data'].append(\n",
    "      {\n",
    "        'label': label,\n",
    "        'value': value\n",
    "      }\n",
    "    )\n",
    "  return record\n",
    "\n",
    "# Recompute the weather histogram with a filter for on-time flights\n",
    "weather_delay_histogram = on_time_dataframe\\\n",
    "  .filter(\n",
    "    (on_time_dataframe.WeatherDelay.isNotNull())\n",
    "    &\n",
    "    (on_time_dataframe.WeatherDelay > 0)\n",
    "  )\\\n",
    "  .select(\"WeatherDelay\")\\\n",
    "  .rdd\\\n",
    "  .flatMap(lambda x: x)\\\n",
    "  .histogram([0, 15, 30, 60, 120, 240, 480, 720, 24*60.0])\n",
    "print(weather_delay_histogram)\n",
    "\n",
    "record = histogram_to_publishable(weather_delay_histogram)\n",
    "record"
   ]
  },
  {
   "cell_type": "markdown",
   "metadata": {},
   "source": [
    "# Building a Classifier Model to Predict Flight Delays\n",
    "\n",
    "## Loading Our Data"
   ]
  },
  {
   "cell_type": "code",
   "execution_count": 74,
   "metadata": {},
   "outputs": [
    {
     "data": {
      "text/plain": [
       "Row(ArrDelay=13.0, CRSArrTime=datetime.datetime(2015, 1, 1, 18, 10), CRSDepTime=datetime.datetime(2015, 1, 1, 15, 30), Carrier='AA', DayOfMonth=1, DayOfWeek=4, DayOfYear=1, DepDelay=14.0, Dest='DFW', Distance=569.0, FlightDate=datetime.date(2014, 12, 31), FlightNum='1024', Origin='ABQ')"
      ]
     },
     "execution_count": 74,
     "metadata": {},
     "output_type": "execute_result"
    }
   ],
   "source": [
    "from pyspark.sql.types import StringType, IntegerType, FloatType, DoubleType, DateType, TimestampType\n",
    "from pyspark.sql.types import StructType, StructField\n",
    "from pyspark.sql.functions import udf\n",
    "\n",
    "schema = StructType([\n",
    "  StructField(\"ArrDelay\", DoubleType(), True),     # \"ArrDelay\":5.0\n",
    "  StructField(\"CRSArrTime\", TimestampType(), True),    # \"CRSArrTime\":\"2015-12-31T03:20:00.000-08:00\"\n",
    "  StructField(\"CRSDepTime\", TimestampType(), True),    # \"CRSDepTime\":\"2015-12-31T03:05:00.000-08:00\"\n",
    "  StructField(\"Carrier\", StringType(), True),     # \"Carrier\":\"WN\"\n",
    "  StructField(\"DayOfMonth\", IntegerType(), True), # \"DayOfMonth\":31\n",
    "  StructField(\"DayOfWeek\", IntegerType(), True),  # \"DayOfWeek\":4\n",
    "  StructField(\"DayOfYear\", IntegerType(), True),  # \"DayOfYear\":365\n",
    "  StructField(\"DepDelay\", DoubleType(), True),     # \"DepDelay\":14.0\n",
    "  StructField(\"Dest\", StringType(), True),        # \"Dest\":\"SAN\"\n",
    "  StructField(\"Distance\", DoubleType(), True),     # \"Distance\":368.0\n",
    "  StructField(\"FlightDate\", DateType(), True),    # \"FlightDate\":\"2015-12-30T16:00:00.000-08:00\"\n",
    "  StructField(\"FlightNum\", StringType(), True),   # \"FlightNum\":\"6109\"\n",
    "  StructField(\"Origin\", StringType(), True),      # \"Origin\":\"TUS\"\n",
    "])\n",
    "\n",
    "features = spark.read.json(\n",
    "  \"../data/simple_flight_delay_features.jsonl.bz2\",\n",
    "  schema=schema\n",
    ")\n",
    "features.first()"
   ]
  },
  {
   "cell_type": "markdown",
   "metadata": {},
   "source": [
    "## Check Data for Nulls"
   ]
  },
  {
   "cell_type": "code",
   "execution_count": 75,
   "metadata": {},
   "outputs": [
    {
     "name": "stdout",
     "output_type": "stream",
     "text": [
      "[]\n"
     ]
    }
   ],
   "source": [
    "#\n",
    "# Check for nulls in features before using Spark ML\n",
    "#\n",
    "null_counts = [(column, features.where(features[column].isNull()).count()) for column in features.columns]\n",
    "cols_with_nulls = filter(lambda x: x[1] > 0, null_counts)\n",
    "print(list(cols_with_nulls))"
   ]
  },
  {
   "cell_type": "markdown",
   "metadata": {},
   "source": [
    "## Add a Route Column\n",
    "\n",
    "Demonstrating the addition of a feature to our model..."
   ]
  },
  {
   "cell_type": "code",
   "execution_count": 76,
   "metadata": {},
   "outputs": [
    {
     "name": "stdout",
     "output_type": "stream",
     "text": [
      "+------+----+-------+\n",
      "|Origin|Dest|  Route|\n",
      "+------+----+-------+\n",
      "|   ABQ| DFW|ABQ-DFW|\n",
      "|   ABQ| DFW|ABQ-DFW|\n",
      "|   ABQ| DFW|ABQ-DFW|\n",
      "|   ATL| DFW|ATL-DFW|\n",
      "|   ATL| DFW|ATL-DFW|\n",
      "+------+----+-------+\n",
      "only showing top 5 rows\n",
      "\n"
     ]
    }
   ],
   "source": [
    "#\n",
    "# Add a Route variable to replace FlightNum\n",
    "#\n",
    "from pyspark.sql.functions import lit, concat\n",
    "\n",
    "features_with_route = features.withColumn(\n",
    "  'Route',\n",
    "  concat(\n",
    "    features.Origin,\n",
    "    lit('-'),\n",
    "    features.Dest\n",
    "  )\n",
    ")\n",
    "features_with_route.select(\"Origin\", \"Dest\", \"Route\").show(5)"
   ]
  },
  {
   "cell_type": "markdown",
   "metadata": {},
   "source": [
    "## Bucketizing ArrDelay into ArrDelayBucket"
   ]
  },
  {
   "cell_type": "code",
   "execution_count": 77,
   "metadata": {},
   "outputs": [
    {
     "name": "stdout",
     "output_type": "stream",
     "text": [
      "+--------+--------------+\n",
      "|ArrDelay|ArrDelayBucket|\n",
      "+--------+--------------+\n",
      "|    13.0|           2.0|\n",
      "|    17.0|           2.0|\n",
      "|    36.0|           3.0|\n",
      "|   -21.0|           0.0|\n",
      "|   -14.0|           1.0|\n",
      "|    16.0|           2.0|\n",
      "|    -7.0|           1.0|\n",
      "|    13.0|           2.0|\n",
      "|    25.0|           2.0|\n",
      "|    58.0|           3.0|\n",
      "|    14.0|           2.0|\n",
      "|     1.0|           2.0|\n",
      "|   -29.0|           0.0|\n",
      "|   -10.0|           1.0|\n",
      "|    -3.0|           1.0|\n",
      "|    -8.0|           1.0|\n",
      "|    -1.0|           1.0|\n",
      "|   -14.0|           1.0|\n",
      "|   -16.0|           0.0|\n",
      "|    18.0|           2.0|\n",
      "+--------+--------------+\n",
      "only showing top 20 rows\n",
      "\n"
     ]
    }
   ],
   "source": [
    "#\n",
    "# Use pysmark.ml.feature.Bucketizer to bucketize ArrDelay\n",
    "#\n",
    "from pyspark.ml.feature import Bucketizer\n",
    "\n",
    "splits = [-float(\"inf\"), -15.0, 0, 30.0, float(\"inf\")]\n",
    "bucketizer = Bucketizer(\n",
    "  splits=splits,\n",
    "  inputCol=\"ArrDelay\",\n",
    "  outputCol=\"ArrDelayBucket\"\n",
    ")\n",
    "ml_bucketized_features = bucketizer.transform(features_with_route)\n",
    "\n",
    "# Check the buckets out\n",
    "ml_bucketized_features.select(\"ArrDelay\", \"ArrDelayBucket\").show()"
   ]
  },
  {
   "cell_type": "markdown",
   "metadata": {},
   "source": [
    "## Indexing Our String Fields into Numeric Fields"
   ]
  },
  {
   "cell_type": "code",
   "execution_count": 78,
   "metadata": {},
   "outputs": [
    {
     "name": "stdout",
     "output_type": "stream",
     "text": [
      "+--------+-------------------+-------------------+-------+----------+---------+---------+--------+----+--------+----------+---------+------+-------+--------------+-------------+----------------+---------------+---------------+------------+----------+-----------+\n",
      "|ArrDelay|         CRSArrTime|         CRSDepTime|Carrier|DayOfMonth|DayOfWeek|DayOfYear|DepDelay|Dest|Distance|FlightDate|FlightNum|Origin|  Route|ArrDelayBucket|Carrier_index|DayOfMonth_index|DayOfWeek_index|DayOfYear_index|Origin_index|Dest_index|Route_index|\n",
      "+--------+-------------------+-------------------+-------+----------+---------+---------+--------+----+--------+----------+---------+------+-------+--------------+-------------+----------------+---------------+---------------+------------+----------+-----------+\n",
      "|    13.0|2015-01-01 18:10:00|2015-01-01 15:30:00|     AA|         1|        4|        1|    14.0| DFW|   569.0|2014-12-31|     1024|   ABQ|ABQ-DFW|           2.0|          2.0|            25.0|            0.0|          320.0|        53.0|       2.0|      938.0|\n",
      "|    17.0|2015-01-01 10:15:00|2015-01-01 07:25:00|     AA|         1|        4|        1|    14.0| DFW|   569.0|2014-12-31|     1184|   ABQ|ABQ-DFW|           2.0|          2.0|            25.0|            0.0|          320.0|        53.0|       2.0|      938.0|\n",
      "|    36.0|2015-01-01 11:45:00|2015-01-01 09:00:00|     AA|         1|        4|        1|    -2.0| DFW|   569.0|2014-12-31|      336|   ABQ|ABQ-DFW|           3.0|          2.0|            25.0|            0.0|          320.0|        53.0|       2.0|      938.0|\n",
      "|   -21.0|2015-01-01 19:30:00|2015-01-01 17:55:00|     AA|         1|        4|        1|    -1.0| DFW|   731.0|2014-12-31|      125|   ATL|ATL-DFW|           0.0|          2.0|            25.0|            0.0|          320.0|         0.0|       2.0|       37.0|\n",
      "|   -14.0|2015-01-01 10:25:00|2015-01-01 08:55:00|     AA|         1|        4|        1|    -4.0| DFW|   731.0|2014-12-31|     1455|   ATL|ATL-DFW|           1.0|          2.0|            25.0|            0.0|          320.0|         0.0|       2.0|       37.0|\n",
      "|    16.0|2015-01-01 15:15:00|2015-01-01 13:45:00|     AA|         1|        4|        1|    15.0| DFW|   731.0|2014-12-31|     1473|   ATL|ATL-DFW|           2.0|          2.0|            25.0|            0.0|          320.0|         0.0|       2.0|       37.0|\n",
      "+--------+-------------------+-------------------+-------+----------+---------+---------+--------+----+--------+----------+---------+------+-------+--------------+-------------+----------------+---------------+---------------+------------+----------+-----------+\n",
      "only showing top 6 rows\n",
      "\n"
     ]
    }
   ],
   "source": [
    "#\n",
    "# Extract features tools in with pyspark.ml.feature\n",
    "#\n",
    "from pyspark.ml.feature import StringIndexer, VectorAssembler\n",
    "\n",
    "# Turn category fields into categoric feature vectors, then drop intermediate fields\n",
    "for column in [\"Carrier\", \"DayOfMonth\", \"DayOfWeek\", \"DayOfYear\",\n",
    "               \"Origin\", \"Dest\", \"Route\"]:\n",
    "  string_indexer = StringIndexer(\n",
    "    inputCol=column,\n",
    "    outputCol=column + \"_index\"\n",
    "  )\n",
    "  ml_bucketized_features = string_indexer.fit(ml_bucketized_features)\\\n",
    "                                          .transform(ml_bucketized_features)\n",
    "\n",
    "# Check out the indexes\n",
    "ml_bucketized_features.show(6)"
   ]
  },
  {
   "cell_type": "markdown",
   "metadata": {},
   "source": [
    "## Combining Numeric Fields into a Single Vector"
   ]
  },
  {
   "cell_type": "code",
   "execution_count": 79,
   "metadata": {},
   "outputs": [
    {
     "name": "stdout",
     "output_type": "stream",
     "text": [
      "+--------+-------------------+-------------------+-------+----------+---------+---------+--------+----+--------+----------+---------+------+-------+--------------+--------------------+\n",
      "|ArrDelay|         CRSArrTime|         CRSDepTime|Carrier|DayOfMonth|DayOfWeek|DayOfYear|DepDelay|Dest|Distance|FlightDate|FlightNum|Origin|  Route|ArrDelayBucket|        Features_vec|\n",
      "+--------+-------------------+-------------------+-------+----------+---------+---------+--------+----+--------+----------+---------+------+-------+--------------+--------------------+\n",
      "|    13.0|2015-01-01 18:10:00|2015-01-01 15:30:00|     AA|         1|        4|        1|    14.0| DFW|   569.0|2014-12-31|     1024|   ABQ|ABQ-DFW|           2.0|[14.0,569.0,2.0,2...|\n",
      "|    17.0|2015-01-01 10:15:00|2015-01-01 07:25:00|     AA|         1|        4|        1|    14.0| DFW|   569.0|2014-12-31|     1184|   ABQ|ABQ-DFW|           2.0|[14.0,569.0,2.0,2...|\n",
      "|    36.0|2015-01-01 11:45:00|2015-01-01 09:00:00|     AA|         1|        4|        1|    -2.0| DFW|   569.0|2014-12-31|      336|   ABQ|ABQ-DFW|           3.0|[-2.0,569.0,2.0,2...|\n",
      "|   -21.0|2015-01-01 19:30:00|2015-01-01 17:55:00|     AA|         1|        4|        1|    -1.0| DFW|   731.0|2014-12-31|      125|   ATL|ATL-DFW|           0.0|[-1.0,731.0,2.0,2...|\n",
      "|   -14.0|2015-01-01 10:25:00|2015-01-01 08:55:00|     AA|         1|        4|        1|    -4.0| DFW|   731.0|2014-12-31|     1455|   ATL|ATL-DFW|           1.0|[-4.0,731.0,2.0,2...|\n",
      "|    16.0|2015-01-01 15:15:00|2015-01-01 13:45:00|     AA|         1|        4|        1|    15.0| DFW|   731.0|2014-12-31|     1473|   ATL|ATL-DFW|           2.0|[15.0,731.0,2.0,2...|\n",
      "|    -7.0|2015-01-01 12:15:00|2015-01-01 10:45:00|     AA|         1|        4|        1|    -2.0| DFW|   731.0|2014-12-31|     1513|   ATL|ATL-DFW|           1.0|[-2.0,731.0,2.0,2...|\n",
      "|    13.0|2015-01-01 16:50:00|2015-01-01 15:25:00|     AA|         1|        4|        1|     9.0| DFW|   731.0|2014-12-31|      194|   ATL|ATL-DFW|           2.0|[9.0,731.0,2.0,25...|\n",
      "|    25.0|2015-01-01 20:30:00|2015-01-01 19:00:00|     AA|         1|        4|        1|    -2.0| DFW|   731.0|2014-12-31|      232|   ATL|ATL-DFW|           2.0|[-2.0,731.0,2.0,2...|\n",
      "|    58.0|2015-01-01 21:40:00|2015-01-01 20:15:00|     AA|         1|        4|        1|    14.0| DFW|   731.0|2014-12-31|      276|   ATL|ATL-DFW|           3.0|[14.0,731.0,2.0,2...|\n",
      "|    14.0|2015-01-01 13:25:00|2015-01-01 11:55:00|     AA|         1|        4|        1|    15.0| DFW|   731.0|2014-12-31|      314|   ATL|ATL-DFW|           2.0|[15.0,731.0,2.0,2...|\n",
      "|     1.0|2015-01-01 18:05:00|2015-01-01 16:40:00|     AA|         1|        4|        1|    -5.0| DFW|   731.0|2014-12-31|      356|   ATL|ATL-DFW|           2.0|[-5.0,731.0,2.0,2...|\n",
      "|   -29.0|2015-01-01 10:12:00|2015-01-01 08:15:00|     AA|         1|        4|        1|    -9.0| MIA|   594.0|2014-12-31|     1652|   ATL|ATL-MIA|           0.0|[-9.0,594.0,2.0,2...|\n",
      "|   -10.0|2015-01-01 08:52:00|2015-01-01 07:00:00|     AA|         1|        4|        1|    -4.0| MIA|   594.0|2014-12-31|       17|   ATL|ATL-MIA|           1.0|[-4.0,594.0,2.0,2...|\n",
      "|    -3.0|2015-01-01 23:02:00|2015-01-01 21:10:00|     AA|         1|        4|        1|    -7.0| MIA|   594.0|2014-12-31|      349|   ATL|ATL-MIA|           1.0|[-7.0,594.0,2.0,2...|\n",
      "|    -8.0|2015-01-01 14:35:00|2015-01-01 13:30:00|     AA|         1|        4|        1|    -2.0| DFW|   190.0|2014-12-31|     1023|   AUS|AUS-DFW|           1.0|[-2.0,190.0,2.0,2...|\n",
      "|    -1.0|2015-01-01 06:50:00|2015-01-01 05:50:00|     AA|         1|        4|        1|    -2.0| DFW|   190.0|2014-12-31|     1178|   AUS|AUS-DFW|           1.0|[-2.0,190.0,2.0,2...|\n",
      "|   -14.0|2015-01-01 09:40:00|2015-01-01 08:30:00|     AA|         1|        4|        1|    -6.0| DFW|   190.0|2014-12-31|     1296|   AUS|AUS-DFW|           1.0|[-6.0,190.0,2.0,2...|\n",
      "|   -16.0|2015-01-01 10:15:00|2015-01-01 09:05:00|     AA|         1|        4|        1|    -4.0| DFW|   190.0|2014-12-31|     1356|   AUS|AUS-DFW|           0.0|[-4.0,190.0,2.0,2...|\n",
      "|    18.0|2015-01-01 16:55:00|2015-01-01 15:55:00|     AA|         1|        4|        1|     3.0| DFW|   190.0|2014-12-31|     1365|   AUS|AUS-DFW|           2.0|[3.0,190.0,2.0,25...|\n",
      "+--------+-------------------+-------------------+-------+----------+---------+---------+--------+----+--------+----------+---------+------+-------+--------------+--------------------+\n",
      "only showing top 20 rows\n",
      "\n"
     ]
    }
   ],
   "source": [
    "# Handle continuous, numeric fields by combining them into one feature vector\n",
    "numeric_columns = [\"DepDelay\", \"Distance\"]\n",
    "index_columns = [\"Carrier_index\", \"DayOfMonth_index\",\n",
    "                   \"DayOfWeek_index\", \"DayOfYear_index\", \"Origin_index\",\n",
    "                   \"Origin_index\", \"Dest_index\", \"Route_index\"]\n",
    "vector_assembler = VectorAssembler(\n",
    "  inputCols=numeric_columns + index_columns,\n",
    "  outputCol=\"Features_vec\"\n",
    ")\n",
    "final_vectorized_features = vector_assembler.transform(ml_bucketized_features)\n",
    "\n",
    "# Drop the index columns\n",
    "for column in index_columns:\n",
    "  final_vectorized_features = final_vectorized_features.drop(column)\n",
    "\n",
    "# Check out the features\n",
    "final_vectorized_features.show()"
   ]
  },
  {
   "cell_type": "markdown",
   "metadata": {},
   "source": [
    "## Training Our Model in an Experimental Setup"
   ]
  },
  {
   "cell_type": "code",
   "execution_count": 80,
   "metadata": {},
   "outputs": [
    {
     "name": "stdout",
     "output_type": "stream",
     "text": [
      "Accuracy = 0.5967731197652838\n",
      "+--------+-------------------+-------------------+-------+----------+---------+---------+--------+----+--------+----------+---------+------+-------+--------------+--------------------+--------------------+--------------------+----------+\n",
      "|ArrDelay|         CRSArrTime|         CRSDepTime|Carrier|DayOfMonth|DayOfWeek|DayOfYear|DepDelay|Dest|Distance|FlightDate|FlightNum|Origin|  Route|ArrDelayBucket|        Features_vec|       rawPrediction|         probability|prediction|\n",
      "+--------+-------------------+-------------------+-------+----------+---------+---------+--------+----+--------+----------+---------+------+-------+--------------+--------------------+--------------------+--------------------+----------+\n",
      "|   -10.0|2015-01-02 08:35:00|2015-01-02 07:30:00|     WN|         2|        5|        2|    -4.0| LAX|   236.0|2015-01-01|     2169|   LAS|LAS-LAX|           1.0|[-4.0,236.0,0.0,5...|[4.69368614250692...|[0.23468430712534...|       1.0|\n",
      "|   200.0|2015-01-02 14:40:00|2015-01-02 11:30:00|     B6|         2|        5|        2|   201.0| MCO|  1091.0|2015-01-01|     1887|   ORH|ORH-MCO|           3.0|[201.0,1091.0,7.0...|[0.38463403281393...|[0.01923170164069...|       3.0|\n",
      "|   -13.0|2015-01-02 15:34:00|2015-01-02 13:57:00|     EV|         2|        5|        2|    -6.0| IAD|   451.0|2015-01-01|     4757|   SDF|SDF-IAD|           1.0|[-6.0,451.0,4.0,5...|[3.99949769680097...|[0.19997488484004...|       1.0|\n",
      "|    91.0|2015-01-03 00:36:00|2015-01-02 18:58:00|     OO|         2|        5|        2|    87.0| MSP|  1535.0|2015-01-01|     5520|   LAX|LAX-MSP|           3.0|[87.0,1535.0,3.0,...|[0.24864914309886...|[0.01243245715494...|       3.0|\n",
      "|    -4.0|2015-01-03 10:30:00|2015-01-03 07:31:00|     B6|         3|        6|        3|    -1.0| PBI|  1035.0|2015-01-02|      461|   LGA|LGA-PBI|           1.0|[-1.0,1035.0,7.0,...|[5.22285454733473...|[0.26114272736673...|       1.0|\n",
      "|    43.0|2015-01-03 17:34:00|2015-01-03 14:29:00|     UA|         3|        6|        3|     2.0| FLL|  1065.0|2015-01-02|     1164|   EWR|EWR-FLL|           3.0|[2.0,1065.0,5.0,1...|[5.05268842661314...|[0.25263442133065...|       1.0|\n",
      "+--------+-------------------+-------------------+-------+----------+---------+---------+--------+----+--------+----------+---------+------+-------+--------------+--------------------+--------------------+--------------------+----------+\n",
      "only showing top 6 rows\n",
      "\n"
     ]
    }
   ],
   "source": [
    "#\n",
    "# Cross validate, train and evaluate classifier\n",
    "#\n",
    "\n",
    "# Test/train split\n",
    "training_data, test_data = final_vectorized_features.randomSplit([0.7, 0.3])\n",
    "\n",
    "# Instantiate and fit random forest classifier\n",
    "from pyspark.ml.classification import RandomForestClassifier\n",
    "rfc = RandomForestClassifier(\n",
    "  featuresCol=\"Features_vec\",\n",
    "  labelCol=\"ArrDelayBucket\",\n",
    "  maxBins=4657,\n",
    "  maxMemoryInMB=1024\n",
    ")\n",
    "model = rfc.fit(training_data)\n",
    "\n",
    "# Evaluate model using test data\n",
    "predictions = model.transform(test_data)\n",
    "\n",
    "from pyspark.ml.evaluation import MulticlassClassificationEvaluator\n",
    "evaluator = MulticlassClassificationEvaluator(labelCol=\"ArrDelayBucket\", metricName=\"accuracy\")\n",
    "accuracy = evaluator.evaluate(predictions)\n",
    "print(\"Accuracy = {}\".format(accuracy))\n",
    "\n",
    "# Check a sample\n",
    "predictions.sample(False, 0.001, 18).orderBy(\"CRSDepTime\").show(6)"
   ]
  },
  {
   "cell_type": "code",
   "execution_count": null,
   "metadata": {},
   "outputs": [],
   "source": []
  }
 ],
 "metadata": {
  "anaconda-cloud": {},
  "kernelspec": {
   "display_name": "Python 3",
   "language": "python",
   "name": "python3"
  },
  "language_info": {
   "codemirror_mode": {
    "name": "ipython",
    "version": 3
   },
   "file_extension": ".py",
   "mimetype": "text/x-python",
   "name": "python",
   "nbconvert_exporter": "python",
   "pygments_lexer": "ipython3",
   "version": "3.6.5"
  }
 },
 "nbformat": 4,
 "nbformat_minor": 1
}
